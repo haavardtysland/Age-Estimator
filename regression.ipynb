{
 "cells": [
  {
   "cell_type": "code",
   "execution_count": 4,
   "metadata": {},
   "outputs": [
    {
     "name": "stdout",
     "output_type": "stream",
     "text": [
      "8594\n",
      "8594\n"
     ]
    }
   ],
   "source": [
    "import tensorflow as tf\n",
    "from tensorflow import keras\n",
    "from PIL import Image\n",
    "import os\n",
    "import numpy as np\n",
    "\n",
    "IMAGE_SIZE = (150,150)\n",
    "\n",
    "x = []\n",
    "y = []\n",
    "\n",
    "folder = './train'\n",
    "set = os.listdir(folder)\n",
    "num_classes = 0\n",
    "\n",
    "for i in set:\n",
    "    if(int(i) <= 90):\n",
    "        num_classes += 1\n",
    "        for file in os.listdir(f\"{folder}/{i}\"):\n",
    "            if file[-4:]=='.jpg':\n",
    "                image=keras.preprocessing.image.load_img(f\"{folder}/{i}/{file}\", grayscale=False, color_mode='rgb', target_size=(150,150))\n",
    "                x_arr = keras.preprocessing.image.img_to_array(image)\n",
    "                y.append(int(i[-3:]))\n",
    "                x.append(x_arr)\n",
    "#print(f\"Det er {num_classes} klasser\")\n",
    "print(len(x))\n",
    "print(len(y))"
   ]
  },
  {
   "cell_type": "code",
   "execution_count": 5,
   "metadata": {},
   "outputs": [
    {
     "name": "stdout",
     "output_type": "stream",
     "text": [
      "3115\n"
     ]
    },
    {
     "data": {
      "text/plain": [
       "3115"
      ]
     },
     "execution_count": 5,
     "metadata": {},
     "output_type": "execute_result"
    }
   ],
   "source": [
    "import os\n",
    "x_test = []\n",
    "y_test = []\n",
    "\n",
    "folder = './test'\n",
    "set = os.listdir(folder)\n",
    "for i in set:\n",
    "    if(int(i) <= 90):\n",
    "        for file in os.listdir(f\"{folder}/{i}\"):\n",
    "            if file[-4:]=='.jpg':\n",
    "                image=keras.preprocessing.image.load_img(f\"{folder}/{i}/{file}\", grayscale=False, color_mode='rgb', target_size=(150,150))\n",
    "                x_arr = keras.preprocessing.image.img_to_array(image)\n",
    "                y_test.append(int(i[-3:]))\n",
    "                x_test.append(x_arr)\n",
    "print(len(x_test))\n",
    "len(x_test)"
   ]
  },
  {
   "cell_type": "code",
   "execution_count": 6,
   "metadata": {},
   "outputs": [
    {
     "name": "stdout",
     "output_type": "stream",
     "text": [
      "Min: 0.000, Max: 1.000\n",
      "Min: 0.000, Max: 1.000\n"
     ]
    }
   ],
   "source": [
    "x = np.asarray(x)\n",
    "y = np.asarray(y)\n",
    "x = x.astype('float32')\n",
    "x /= 255.0\n",
    "\n",
    "x_test = np.asarray(x_test)\n",
    "y_test = np.asarray(y_test)\n",
    "x_test = x_test.astype('float32')\n",
    "x_test /= 255.0\n",
    "\n",
    "print('Min: %.3f, Max: %.3f' % (x.min(), x.max()))\n",
    "print('Min: %.3f, Max: %.3f' % (x_test.min(), x_test.max()))"
   ]
  },
  {
   "cell_type": "code",
   "execution_count": 82,
   "metadata": {},
   "outputs": [
    {
     "name": "stdout",
     "output_type": "stream",
     "text": [
      "(8594, 150, 150, 3)\n",
      "(8594,)\n",
      "(3115, 150, 150, 3)\n",
      "(3115,)\n"
     ]
    }
   ],
   "source": [
    "print(x.shape)\n",
    "print(y.shape)\n",
    "print(x_test.shape)\n",
    "print(y_test.shape)"
   ]
  },
  {
   "cell_type": "code",
   "execution_count": 9,
   "metadata": {},
   "outputs": [],
   "source": [
    "from tensorflow.keras.preprocessing.image import ImageDataGenerator\n",
    "\n",
    "datagen = ImageDataGenerator(\n",
    "    rotation_range=45,\n",
    "    shear_range = 0.2,\n",
    "    zoom_range = 0.2,\n",
    "    fill_mode='reflect',\n",
    "    horizontal_flip = True)\n"
   ]
  },
  {
   "cell_type": "code",
   "execution_count": 10,
   "metadata": {},
   "outputs": [
    {
     "name": "stdout",
     "output_type": "stream",
     "text": [
      "Model: \"sequential_1\"\n",
      "_________________________________________________________________\n",
      "Layer (type)                 Output Shape              Param #   \n",
      "=================================================================\n",
      "conv2d_4 (Conv2D)            (None, 148, 148, 32)      896       \n",
      "_________________________________________________________________\n",
      "max_pooling2d_4 (MaxPooling2 (None, 74, 74, 32)        0         \n",
      "_________________________________________________________________\n",
      "conv2d_5 (Conv2D)            (None, 72, 72, 64)        18496     \n",
      "_________________________________________________________________\n",
      "max_pooling2d_5 (MaxPooling2 (None, 36, 36, 64)        0         \n",
      "_________________________________________________________________\n",
      "conv2d_6 (Conv2D)            (None, 34, 34, 128)       73856     \n",
      "_________________________________________________________________\n",
      "max_pooling2d_6 (MaxPooling2 (None, 17, 17, 128)       0         \n",
      "_________________________________________________________________\n",
      "conv2d_7 (Conv2D)            (None, 15, 15, 128)       147584    \n",
      "_________________________________________________________________\n",
      "max_pooling2d_7 (MaxPooling2 (None, 7, 7, 128)         0         \n",
      "_________________________________________________________________\n",
      "flatten_1 (Flatten)          (None, 6272)              0         \n",
      "_________________________________________________________________\n",
      "dense_2 (Dense)              (None, 512)               3211776   \n",
      "_________________________________________________________________\n",
      "dense_3 (Dense)              (None, 1)                 513       \n",
      "=================================================================\n",
      "Total params: 3,453,121\n",
      "Trainable params: 3,453,121\n",
      "Non-trainable params: 0\n",
      "_________________________________________________________________\n"
     ]
    }
   ],
   "source": [
    "from tensorflow.keras import layers\n",
    "from tensorflow import keras\n",
    "def build_model():\n",
    "    return tf.keras.models.Sequential([\n",
    "    layers.Conv2D(32, (3,3), activation='relu', input_shape=(150, 150, 3)),\n",
    "    layers.MaxPooling2D(2, 2),\n",
    "    layers.Conv2D(64, (3,3), activation='relu'),\n",
    "    layers.MaxPooling2D(2,2),\n",
    "    layers.Conv2D(128, (3,3), activation='relu'),\n",
    "    layers.MaxPooling2D(2,2),\n",
    "    layers.Conv2D(128, (3,3), activation='relu'),\n",
    "    layers.MaxPooling2D(2,2),\n",
    "    layers.Flatten(),\n",
    "    layers.Dense(512, activation='relu'),\n",
    "    layers.Dense(1, activation='linear')\n",
    "])\n",
    "\n",
    "model = build_model()\n",
    "model.summary()"
   ]
  },
  {
   "cell_type": "code",
   "execution_count": 11,
   "metadata": {},
   "outputs": [
    {
     "name": "stdout",
     "output_type": "stream",
     "text": [
      "8594\n"
     ]
    }
   ],
   "source": [
    "epochs = 50\n",
    "batch_size= 64\n",
    "steps_per_epoch = len(x) // batch_size\n",
    "print(len(x))\n",
    "\n",
    "#Antall bilder = batch * steps = 20 * 100 = 2000"
   ]
  },
  {
   "cell_type": "code",
   "execution_count": 14,
   "metadata": {},
   "outputs": [
    {
     "name": "stdout",
     "output_type": "stream",
     "text": [
      "Epoch 1/50\n",
      "134/134 [==============================] - 158s 1s/step - loss: 21.8691 - mean_absolute_error: 21.8691 - val_loss: 22.2552 - val_mean_absolute_error: 22.2552\n",
      "Epoch 2/50\n",
      "134/134 [==============================] - 163s 1s/step - loss: 19.2087 - mean_absolute_error: 19.2087 - val_loss: 22.1778 - val_mean_absolute_error: 22.1778\n",
      "Epoch 3/50\n",
      "134/134 [==============================] - 164s 1s/step - loss: 17.5812 - mean_absolute_error: 17.5812 - val_loss: 20.3964 - val_mean_absolute_error: 20.3964\n",
      "Epoch 4/50\n",
      "134/134 [==============================] - 170s 1s/step - loss: 16.6565 - mean_absolute_error: 16.6565 - val_loss: 19.6357 - val_mean_absolute_error: 19.6357\n",
      "Epoch 5/50\n",
      "134/134 [==============================] - 171s 1s/step - loss: 16.2228 - mean_absolute_error: 16.2228 - val_loss: 17.7357 - val_mean_absolute_error: 17.7357\n",
      "Epoch 6/50\n",
      "134/134 [==============================] - 177s 1s/step - loss: 15.9441 - mean_absolute_error: 15.9441 - val_loss: 17.2711 - val_mean_absolute_error: 17.2711\n",
      "Epoch 7/50\n",
      "134/134 [==============================] - 173s 1s/step - loss: 15.9245 - mean_absolute_error: 15.9245 - val_loss: 17.3056 - val_mean_absolute_error: 17.3056\n",
      "Epoch 8/50\n",
      "134/134 [==============================] - 158s 1s/step - loss: 15.6116 - mean_absolute_error: 15.6116 - val_loss: 18.4824 - val_mean_absolute_error: 18.4824\n",
      "Epoch 9/50\n",
      "134/134 [==============================] - 125s 933ms/step - loss: 15.4951 - mean_absolute_error: 15.4951 - val_loss: 16.9435 - val_mean_absolute_error: 16.9435\n",
      "Epoch 10/50\n",
      "134/134 [==============================] - 128s 957ms/step - loss: 15.2154 - mean_absolute_error: 15.2154 - val_loss: 16.7100 - val_mean_absolute_error: 16.7100\n",
      "Epoch 11/50\n",
      "134/134 [==============================] - 131s 976ms/step - loss: 14.9472 - mean_absolute_error: 14.9472 - val_loss: 18.1599 - val_mean_absolute_error: 18.1599\n",
      "Epoch 12/50\n",
      "134/134 [==============================] - 132s 980ms/step - loss: 15.1565 - mean_absolute_error: 15.1565 - val_loss: 16.7577 - val_mean_absolute_error: 16.7577\n",
      "Epoch 13/50\n",
      "134/134 [==============================] - 152s 1s/step - loss: 14.8295 - mean_absolute_error: 14.8295 - val_loss: 16.5131 - val_mean_absolute_error: 16.5131\n",
      "Epoch 14/50\n",
      "134/134 [==============================] - 137s 1s/step - loss: 14.3665 - mean_absolute_error: 14.3665 - val_loss: 15.7966 - val_mean_absolute_error: 15.7966\n",
      "Epoch 15/50\n",
      "134/134 [==============================] - 130s 971ms/step - loss: 14.3044 - mean_absolute_error: 14.3044 - val_loss: 15.8452 - val_mean_absolute_error: 15.8452\n",
      "Epoch 16/50\n",
      "134/134 [==============================] - 130s 971ms/step - loss: 14.3185 - mean_absolute_error: 14.3185 - val_loss: 15.6668 - val_mean_absolute_error: 15.6668\n",
      "Epoch 17/50\n",
      "134/134 [==============================] - 131s 979ms/step - loss: 14.1159 - mean_absolute_error: 14.1159 - val_loss: 16.4643 - val_mean_absolute_error: 16.4643\n",
      "Epoch 18/50\n",
      "134/134 [==============================] - 162s 1s/step - loss: 13.9906 - mean_absolute_error: 13.9906 - val_loss: 15.3789 - val_mean_absolute_error: 15.3789\n",
      "Epoch 19/50\n",
      "134/134 [==============================] - 141s 1s/step - loss: 13.5937 - mean_absolute_error: 13.5937 - val_loss: 16.2743 - val_mean_absolute_error: 16.2743\n",
      "Epoch 20/50\n",
      "134/134 [==============================] - 130s 971ms/step - loss: 13.7280 - mean_absolute_error: 13.7280 - val_loss: 15.1119 - val_mean_absolute_error: 15.1119\n",
      "Epoch 21/50\n",
      "134/134 [==============================] - 131s 975ms/step - loss: 13.4582 - mean_absolute_error: 13.4582 - val_loss: 14.4373 - val_mean_absolute_error: 14.4373\n",
      "Epoch 22/50\n",
      "134/134 [==============================] - 129s 960ms/step - loss: 13.3690 - mean_absolute_error: 13.3690 - val_loss: 14.4828 - val_mean_absolute_error: 14.4828\n",
      "Epoch 23/50\n",
      "134/134 [==============================] - 324s 2s/step - loss: 13.0206 - mean_absolute_error: 13.0206 - val_loss: 14.2509 - val_mean_absolute_error: 14.2509\n",
      "Epoch 24/50\n",
      "134/134 [==============================] - 124s 925ms/step - loss: 12.9914 - mean_absolute_error: 12.9914 - val_loss: 13.9386 - val_mean_absolute_error: 13.9386\n",
      "Epoch 25/50\n",
      "134/134 [==============================] - 132s 982ms/step - loss: 12.6131 - mean_absolute_error: 12.6131 - val_loss: 14.1552 - val_mean_absolute_error: 14.1552\n",
      "Epoch 26/50\n",
      "134/134 [==============================] - 142s 1s/step - loss: 12.6228 - mean_absolute_error: 12.6228 - val_loss: 13.7610 - val_mean_absolute_error: 13.7610\n",
      "Epoch 27/50\n",
      "134/134 [==============================] - 142s 1s/step - loss: 12.4907 - mean_absolute_error: 12.4907 - val_loss: 13.6025 - val_mean_absolute_error: 13.6025\n",
      "Epoch 28/50\n",
      "134/134 [==============================] - 150s 1s/step - loss: 12.5463 - mean_absolute_error: 12.5463 - val_loss: 13.3154 - val_mean_absolute_error: 13.3154\n",
      "Epoch 29/50\n",
      "134/134 [==============================] - 143s 1s/step - loss: 12.3409 - mean_absolute_error: 12.3409 - val_loss: 13.2137 - val_mean_absolute_error: 13.2137\n",
      "Epoch 30/50\n",
      "134/134 [==============================] - 147s 1s/step - loss: 12.1609 - mean_absolute_error: 12.1609 - val_loss: 13.8933 - val_mean_absolute_error: 13.8933\n",
      "Epoch 31/50\n",
      "134/134 [==============================] - 143s 1s/step - loss: 12.2676 - mean_absolute_error: 12.2676 - val_loss: 13.2372 - val_mean_absolute_error: 13.2372\n",
      "Epoch 32/50\n",
      "134/134 [==============================] - 145s 1s/step - loss: 12.0982 - mean_absolute_error: 12.0982 - val_loss: 13.5061 - val_mean_absolute_error: 13.5061\n",
      "Epoch 33/50\n",
      "134/134 [==============================] - 141s 1s/step - loss: 12.1893 - mean_absolute_error: 12.1893 - val_loss: 12.9600 - val_mean_absolute_error: 12.9600\n",
      "Epoch 34/50\n",
      "134/134 [==============================] - 160s 1s/step - loss: 11.7801 - mean_absolute_error: 11.7801 - val_loss: 15.1972 - val_mean_absolute_error: 15.1972\n",
      "Epoch 35/50\n",
      "134/134 [==============================] - 144s 1s/step - loss: 11.8462 - mean_absolute_error: 11.8462 - val_loss: 12.9491 - val_mean_absolute_error: 12.9491\n",
      "Epoch 36/50\n",
      "134/134 [==============================] - 153s 1s/step - loss: 11.5259 - mean_absolute_error: 11.5259 - val_loss: 12.4741 - val_mean_absolute_error: 12.4741\n",
      "Epoch 37/50\n",
      "134/134 [==============================] - 166s 1s/step - loss: 11.5708 - mean_absolute_error: 11.5708 - val_loss: 12.5940 - val_mean_absolute_error: 12.5940\n",
      "Epoch 38/50\n",
      "134/134 [==============================] - 162s 1s/step - loss: 11.5082 - mean_absolute_error: 11.5082 - val_loss: 12.4519 - val_mean_absolute_error: 12.4519\n",
      "Epoch 39/50\n",
      "134/134 [==============================] - 145s 1s/step - loss: 11.4031 - mean_absolute_error: 11.4031 - val_loss: 14.4601 - val_mean_absolute_error: 14.4601\n",
      "Epoch 40/50\n",
      "134/134 [==============================] - 144s 1s/step - loss: 11.3735 - mean_absolute_error: 11.3735 - val_loss: 12.7872 - val_mean_absolute_error: 12.7872\n",
      "Epoch 41/50\n",
      "134/134 [==============================] - 140s 1s/step - loss: 11.3094 - mean_absolute_error: 11.3094 - val_loss: 12.5222 - val_mean_absolute_error: 12.5222\n",
      "Epoch 42/50\n",
      "134/134 [==============================] - 140s 1s/step - loss: 11.1681 - mean_absolute_error: 11.1681 - val_loss: 12.5856 - val_mean_absolute_error: 12.5856\n",
      "Epoch 43/50\n",
      "134/134 [==============================] - 142s 1s/step - loss: 11.2982 - mean_absolute_error: 11.2982 - val_loss: 12.3878 - val_mean_absolute_error: 12.3878\n",
      "Epoch 44/50\n",
      "134/134 [==============================] - 143s 1s/step - loss: 11.3473 - mean_absolute_error: 11.3473 - val_loss: 12.6733 - val_mean_absolute_error: 12.6733\n",
      "Epoch 45/50\n",
      "134/134 [==============================] - 156s 1s/step - loss: 11.2305 - mean_absolute_error: 11.2305 - val_loss: 14.2654 - val_mean_absolute_error: 14.2654\n",
      "Epoch 46/50\n",
      "134/134 [==============================] - 158s 1s/step - loss: 11.0147 - mean_absolute_error: 11.0147 - val_loss: 13.4369 - val_mean_absolute_error: 13.4369\n",
      "Epoch 47/50\n",
      "134/134 [==============================] - 149s 1s/step - loss: 10.9210 - mean_absolute_error: 10.9210 - val_loss: 11.9298 - val_mean_absolute_error: 11.9298\n",
      "Epoch 48/50\n",
      "134/134 [==============================] - 150s 1s/step - loss: 11.0592 - mean_absolute_error: 11.0592 - val_loss: 11.9583 - val_mean_absolute_error: 11.9583\n",
      "Epoch 49/50\n",
      "134/134 [==============================] - 146s 1s/step - loss: 11.0361 - mean_absolute_error: 11.0361 - val_loss: 11.9228 - val_mean_absolute_error: 11.9228\n",
      "Epoch 50/50\n",
      "134/134 [==============================] - 152s 1s/step - loss: 10.8630 - mean_absolute_error: 10.8630 - val_loss: 11.8225 - val_mean_absolute_error: 11.8225\n"
     ]
    }
   ],
   "source": [
    "model = build_model()\n",
    "\n",
    "model.compile(loss='mean_absolute_error',\n",
    "              optimizer='adam',\n",
    "              metrics=['mean_absolute_error'])\n",
    "\n",
    "model_history = model.fit(\n",
    "            datagen.flow(x,y,batch_size=batch_size),\n",
    "            steps_per_epoch = steps_per_epoch,\n",
    "            validation_data = (x_test,y_test),\n",
    "            epochs = epochs,\n",
    "            verbose=True)\n",
    "\n",
    "#model.evaluate() Kan brukes for å sjekke modellen, men det er nok bedre å gjøre det direkte i mo del_fit."
   ]
  },
  {
   "cell_type": "code",
   "execution_count": 15,
   "metadata": {},
   "outputs": [
    {
     "data": {
      "image/png": "[encoded data removed]",
      "text/plain": [
       "<Figure size 432x288 with 1 Axes>"
      ]
     },
     "metadata": {
      "needs_background": "light"
     },
     "output_type": "display_data"
    }
   ],
   "source": [
    "import matplotlib.pyplot as plt\n",
    "\n",
    "loss = model_history.history['loss']\n",
    "val_loss = model_history.history['val_loss']\n",
    "\n",
    "epochs = range(50)\n",
    "\n",
    "plt.plot(epochs, loss, 'bo', label='Training Loss')\n",
    "plt.plot(epochs, val_loss, 'b', label='Validation Loss')\n",
    "plt.title('Training and validation loss')\n",
    "plt.legend()\n",
    "\n",
    "plt.show()"
   ]
  },
  {
   "cell_type": "code",
   "execution_count": 61,
   "metadata": {},
   "outputs": [],
   "source": [
    "def classify(num):\n",
    "    if(num > 100):\n",
    "        return 10\n",
    "    return num//10\n",
    "\n",
    "def is_correct(val_num, pred_num) -> bool:\n",
    "    num = classify(pred_num)\n",
    "    num2 = classify(val_num)\n",
    "    if(num == num2):        \n",
    "        return True\n",
    "    else:\n",
    "        return False"
   ]
  },
  {
   "cell_type": "code",
   "execution_count": 62,
   "metadata": {},
   "outputs": [
    {
     "data": {
      "text/plain": [
       "30.850722311396467"
      ]
     },
     "execution_count": 62,
     "metadata": {},
     "output_type": "execute_result"
    }
   ],
   "source": [
    "def model_accuracy(model, val_x, val_y):\n",
    "    num_correct = 0\n",
    "    for i in range(len(val_x)):\n",
    "        val = tf.expand_dims(val_x[i], 0)\n",
    "        pred_num = model.predict(val)\n",
    "        val_num = val_y[i]\n",
    "        if(is_correct(val_num, int(pred_num.item()))):\n",
    "            num_correct = num_correct + 1\n",
    "    return num_correct * 100 / len(val_x) \n",
    "\n",
    "model_accuracy(model, x_test, y_test)"
   ]
  },
  {
   "cell_type": "code",
   "execution_count": 63,
   "metadata": {},
   "outputs": [],
   "source": [
    "def test_model(model, image_path):\n",
    "    image = keras.preprocessing.image.load_img(image_path, grayscale=False, color_mode='rgb',\n",
    "                                               target_size=(150, 150))\n",
    "    img_array = keras.preprocessing.image.img_to_array(image)\n",
    "    img_array = tf.expand_dims(img_array, 0)\n",
    "    img_array = np.asarray(img_array)\n",
    "    img_array = img_array.astype('float32')\n",
    "    img_array = img_array//255.0\n",
    "    predictions = model.predict(img_array)\n",
    "    print('Min: %.3f, Max: %.3f' % (img_array.min(), img_array.max()))\n",
    "    print(int(predictions.item()))"
   ]
  }
 ],
 "metadata": {
  "interpreter": {
   "hash": "aee8b7b246df8f9039afb4144a1f6fd8d2ca17a180786b69acc140d282b71a49"
  },
  "kernelspec": {
   "display_name": "Python 3 (ipykernel)",
   "language": "python",
   "name": "python3"
  },
  "language_info": {
   "codemirror_mode": {
    "name": "ipython",
    "version": 3
   },
   "file_extension": ".py",
   "mimetype": "text/x-python",
   "name": "python",
   "nbconvert_exporter": "python",
   "pygments_lexer": "ipython3",
   "version": "3.8.12"
  }
 },
 "nbformat": 4,
 "nbformat_minor": 2
}
