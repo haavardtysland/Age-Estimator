{
 "cells": [
  {
   "cell_type": "code",
   "execution_count": 13,
   "metadata": {},
   "outputs": [
    {
     "name": "stdout",
     "output_type": "stream",
     "text": [
      "8651\n",
      "8651\n"
     ]
    }
   ],
   "source": [
    "import tensorflow as tf\n",
    "from tensorflow import keras\n",
    "from PIL import Image\n",
    "import os\n",
    "import numpy as np\n",
    "\n",
    "IMAGE_SIZE = (150,150)\n",
    "\n",
    "x = []\n",
    "y = []\n",
    "\n",
    "folder = './train'\n",
    "set = os.listdir(folder)\n",
    "num_classes = 0\n",
    "\n",
    "for i in set:\n",
    "        num_classes += 1\n",
    "        for file in os.listdir(f\"{folder}/{i}\"):\n",
    "            if file[-4:]=='.jpg':\n",
    "                image=keras.preprocessing.image.load_img(f\"{folder}/{i}/{file}\", grayscale=False, color_mode='rgb', target_size=(150,150))\n",
    "                x_arr = keras.preprocessing.image.img_to_array(image)\n",
    "                y.append(int(i[-3:]))\n",
    "                x.append(x_arr)\n",
    "#print(f\"Det er {num_classes} klasser\")\n",
    "print(len(x))\n",
    "print(len(y))"
   ]
  },
  {
   "cell_type": "code",
   "execution_count": 14,
   "metadata": {},
   "outputs": [
    {
     "name": "stdout",
     "output_type": "stream",
     "text": [
      "3292\n"
     ]
    },
    {
     "data": {
      "text/plain": [
       "3292"
      ]
     },
     "execution_count": 14,
     "metadata": {},
     "output_type": "execute_result"
    }
   ],
   "source": [
    "import os\n",
    "x_test = []\n",
    "y_test = []\n",
    "\n",
    "folder = './test'\n",
    "set = os.listdir(folder)\n",
    "for i in set:\n",
    "        for file in os.listdir(f\"{folder}/{i}\"):\n",
    "            if file[-4:]=='.jpg':\n",
    "                image=keras.preprocessing.image.load_img(f\"{folder}/{i}/{file}\", grayscale=False, color_mode='rgb', target_size=(150,150))\n",
    "                x_arr = keras.preprocessing.image.img_to_array(image)\n",
    "                y_test.append(int(i[-3:]))\n",
    "                x_test.append(x_arr)\n",
    "print(len(x_test))\n",
    "len(x_test)"
   ]
  },
  {
   "cell_type": "code",
   "execution_count": 15,
   "metadata": {},
   "outputs": [
    {
     "name": "stdout",
     "output_type": "stream",
     "text": [
      "Min: 0.000, Max: 1.000\n",
      "Min: 0.000, Max: 1.000\n"
     ]
    }
   ],
   "source": [
    "x = np.asarray(x)\n",
    "y = np.asarray(y)\n",
    "x = x.astype('float32')\n",
    "x /= 255.0\n",
    "\n",
    "x_test = np.asarray(x_test)\n",
    "y_test = np.asarray(y_test)\n",
    "x_test = x_test.astype('float32')\n",
    "x_test /= 255.0\n",
    "\n",
    "print('Min: %.3f, Max: %.3f' % (x.min(), x.max()))\n",
    "print('Min: %.3f, Max: %.3f' % (x_test.min(), x_test.max()))"
   ]
  },
  {
   "cell_type": "code",
   "execution_count": 16,
   "metadata": {},
   "outputs": [
    {
     "name": "stdout",
     "output_type": "stream",
     "text": [
      "(8651, 150, 150, 3)\n",
      "(8651,)\n",
      "(3292, 150, 150, 3)\n",
      "(3292,)\n"
     ]
    }
   ],
   "source": [
    "print(x.shape)\n",
    "print(y.shape)\n",
    "print(x_test.shape)\n",
    "print(y_test.shape)"
   ]
  },
  {
   "cell_type": "code",
   "execution_count": 17,
   "metadata": {},
   "outputs": [],
   "source": [
    "from tensorflow.keras.preprocessing.image import ImageDataGenerator\n",
    "\n",
    "datagen = ImageDataGenerator(\n",
    "    rotation_range=45,\n",
    "    shear_range = 0.2,\n",
    "    zoom_range = 0.2,\n",
    "    fill_mode='reflect',\n",
    "    horizontal_flip = True)\n"
   ]
  },
  {
   "cell_type": "code",
   "execution_count": 18,
   "metadata": {},
   "outputs": [
    {
     "name": "stdout",
     "output_type": "stream",
     "text": [
      "Model: \"sequential_2\"\n",
      "_________________________________________________________________\n",
      "Layer (type)                 Output Shape              Param #   \n",
      "=================================================================\n",
      "conv2d_8 (Conv2D)            (None, 148, 148, 32)      896       \n",
      "_________________________________________________________________\n",
      "max_pooling2d_8 (MaxPooling2 (None, 74, 74, 32)        0         \n",
      "_________________________________________________________________\n",
      "conv2d_9 (Conv2D)            (None, 72, 72, 64)        18496     \n",
      "_________________________________________________________________\n",
      "max_pooling2d_9 (MaxPooling2 (None, 36, 36, 64)        0         \n",
      "_________________________________________________________________\n",
      "conv2d_10 (Conv2D)           (None, 34, 34, 128)       73856     \n",
      "_________________________________________________________________\n",
      "max_pooling2d_10 (MaxPooling (None, 17, 17, 128)       0         \n",
      "_________________________________________________________________\n",
      "conv2d_11 (Conv2D)           (None, 15, 15, 128)       147584    \n",
      "_________________________________________________________________\n",
      "max_pooling2d_11 (MaxPooling (None, 7, 7, 128)         0         \n",
      "_________________________________________________________________\n",
      "flatten_2 (Flatten)          (None, 6272)              0         \n",
      "_________________________________________________________________\n",
      "dense_4 (Dense)              (None, 512)               3211776   \n",
      "_________________________________________________________________\n",
      "dense_5 (Dense)              (None, 1)                 513       \n",
      "=================================================================\n",
      "Total params: 3,453,121\n",
      "Trainable params: 3,453,121\n",
      "Non-trainable params: 0\n",
      "_________________________________________________________________\n"
     ]
    }
   ],
   "source": [
    "from tensorflow.keras import layers\n",
    "from tensorflow import keras\n",
    "def build_model():\n",
    "    return tf.keras.models.Sequential([\n",
    "    layers.Conv2D(32, (3,3), activation='relu', input_shape=(150, 150, 3)),\n",
    "    layers.MaxPooling2D(2, 2),\n",
    "    layers.Conv2D(64, (3,3), activation='relu'),\n",
    "    layers.MaxPooling2D(2,2),\n",
    "    layers.Conv2D(128, (3,3), activation='relu'),\n",
    "    layers.MaxPooling2D(2,2),\n",
    "    layers.Conv2D(128, (3,3), activation='relu'),\n",
    "    layers.MaxPooling2D(2,2),\n",
    "    layers.Flatten(),\n",
    "    layers.Dense(512, activation='relu'),\n",
    "    layers.Dense(1, activation='linear')\n",
    "])\n",
    "\n",
    "model = build_model()\n",
    "model.summary()"
   ]
  },
  {
   "cell_type": "code",
   "execution_count": 19,
   "metadata": {},
   "outputs": [
    {
     "name": "stdout",
     "output_type": "stream",
     "text": [
      "8651\n"
     ]
    }
   ],
   "source": [
    "epochs = 50\n",
    "batch_size= 64\n",
    "steps_per_epoch = len(x) // batch_size\n",
    "print(len(x))\n",
    "\n",
    "#Antall bilder = batch * steps = 20 * 100 = 2000"
   ]
  },
  {
   "cell_type": "code",
   "execution_count": 20,
   "metadata": {},
   "outputs": [
    {
     "name": "stdout",
     "output_type": "stream",
     "text": [
      "Epoch 1/50\n",
      "135/135 [==============================] - 116s 853ms/step - loss: 21.2515 - mean_absolute_error: 21.2515 - val_loss: 25.1989 - val_mean_absolute_error: 25.1989\n",
      "Epoch 2/50\n",
      "135/135 [==============================] - 127s 941ms/step - loss: 18.6502 - mean_absolute_error: 18.6502 - val_loss: 20.2418 - val_mean_absolute_error: 20.2418\n",
      "Epoch 3/50\n",
      "135/135 [==============================] - 123s 909ms/step - loss: 17.5762 - mean_absolute_error: 17.5762 - val_loss: 19.6658 - val_mean_absolute_error: 19.6658\n",
      "Epoch 4/50\n",
      "135/135 [==============================] - 119s 877ms/step - loss: 16.4335 - mean_absolute_error: 16.4335 - val_loss: 21.1919 - val_mean_absolute_error: 21.1919\n",
      "Epoch 5/50\n",
      "135/135 [==============================] - 119s 877ms/step - loss: 16.5591 - mean_absolute_error: 16.5591 - val_loss: 18.5929 - val_mean_absolute_error: 18.5929\n",
      "Epoch 6/50\n",
      "135/135 [==============================] - 121s 895ms/step - loss: 15.7889 - mean_absolute_error: 15.7889 - val_loss: 17.9474 - val_mean_absolute_error: 17.9474\n",
      "Epoch 7/50\n",
      "135/135 [==============================] - 1112s 8s/step - loss: 15.4426 - mean_absolute_error: 15.4426 - val_loss: 18.3414 - val_mean_absolute_error: 18.3414\n",
      "Epoch 8/50\n",
      "135/135 [==============================] - 112s 829ms/step - loss: 15.5524 - mean_absolute_error: 15.5524 - val_loss: 17.3405 - val_mean_absolute_error: 17.3405\n",
      "Epoch 9/50\n",
      "135/135 [==============================] - 111s 820ms/step - loss: 15.3606 - mean_absolute_error: 15.3606 - val_loss: 17.9123 - val_mean_absolute_error: 17.9123\n",
      "Epoch 10/50\n",
      "135/135 [==============================] - 114s 846ms/step - loss: 14.8610 - mean_absolute_error: 14.8610 - val_loss: 18.3367 - val_mean_absolute_error: 18.3367\n",
      "Epoch 11/50\n",
      "135/135 [==============================] - 118s 871ms/step - loss: 14.9408 - mean_absolute_error: 14.9408 - val_loss: 18.5784 - val_mean_absolute_error: 18.5784\n",
      "Epoch 12/50\n",
      "135/135 [==============================] - 118s 876ms/step - loss: 14.5710 - mean_absolute_error: 14.5710 - val_loss: 16.4451 - val_mean_absolute_error: 16.4451\n",
      "Epoch 13/50\n",
      "135/135 [==============================] - 120s 883ms/step - loss: 14.3032 - mean_absolute_error: 14.3032 - val_loss: 16.4146 - val_mean_absolute_error: 16.4146\n",
      "Epoch 14/50\n",
      "135/135 [==============================] - 120s 884ms/step - loss: 14.3616 - mean_absolute_error: 14.3616 - val_loss: 17.3102 - val_mean_absolute_error: 17.3102\n",
      "Epoch 15/50\n",
      "135/135 [==============================] - 120s 884ms/step - loss: 14.0267 - mean_absolute_error: 14.0267 - val_loss: 15.8838 - val_mean_absolute_error: 15.8838\n",
      "Epoch 16/50\n",
      "135/135 [==============================] - 121s 891ms/step - loss: 13.7370 - mean_absolute_error: 13.7370 - val_loss: 15.4784 - val_mean_absolute_error: 15.4784\n",
      "Epoch 17/50\n",
      "135/135 [==============================] - 119s 883ms/step - loss: 14.2135 - mean_absolute_error: 14.2135 - val_loss: 16.4744 - val_mean_absolute_error: 16.4744\n",
      "Epoch 18/50\n",
      "135/135 [==============================] - 128s 948ms/step - loss: 13.4628 - mean_absolute_error: 13.4628 - val_loss: 15.9580 - val_mean_absolute_error: 15.9580\n",
      "Epoch 19/50\n",
      "135/135 [==============================] - 141s 1s/step - loss: 13.3699 - mean_absolute_error: 13.3699 - val_loss: 15.2031 - val_mean_absolute_error: 15.2031\n",
      "Epoch 20/50\n",
      "135/135 [==============================] - 118s 869ms/step - loss: 13.5107 - mean_absolute_error: 13.5107 - val_loss: 15.3497 - val_mean_absolute_error: 15.3497\n",
      "Epoch 21/50\n",
      "135/135 [==============================] - 118s 870ms/step - loss: 12.9478 - mean_absolute_error: 12.9478 - val_loss: 14.7265 - val_mean_absolute_error: 14.7265\n",
      "Epoch 22/50\n",
      "135/135 [==============================] - 118s 869ms/step - loss: 12.8546 - mean_absolute_error: 12.8546 - val_loss: 14.3311 - val_mean_absolute_error: 14.3311\n",
      "Epoch 23/50\n",
      "135/135 [==============================] - 118s 873ms/step - loss: 12.5555 - mean_absolute_error: 12.5555 - val_loss: 13.9861 - val_mean_absolute_error: 13.9861\n",
      "Epoch 24/50\n",
      "135/135 [==============================] - 118s 871ms/step - loss: 12.7119 - mean_absolute_error: 12.7119 - val_loss: 14.1778 - val_mean_absolute_error: 14.1778\n",
      "Epoch 25/50\n",
      "135/135 [==============================] - 117s 865ms/step - loss: 12.2423 - mean_absolute_error: 12.2423 - val_loss: 14.2116 - val_mean_absolute_error: 14.2116\n",
      "Epoch 26/50\n",
      "135/135 [==============================] - 119s 877ms/step - loss: 12.4146 - mean_absolute_error: 12.4146 - val_loss: 14.2648 - val_mean_absolute_error: 14.2648\n",
      "Epoch 27/50\n",
      "135/135 [==============================] - 118s 869ms/step - loss: 12.2583 - mean_absolute_error: 12.2583 - val_loss: 14.3951 - val_mean_absolute_error: 14.3951\n",
      "Epoch 28/50\n",
      "135/135 [==============================] - 117s 863ms/step - loss: 12.2447 - mean_absolute_error: 12.2447 - val_loss: 14.2392 - val_mean_absolute_error: 14.2392\n",
      "Epoch 29/50\n",
      "135/135 [==============================] - 123s 911ms/step - loss: 12.1440 - mean_absolute_error: 12.1440 - val_loss: 14.5221 - val_mean_absolute_error: 14.5221\n",
      "Epoch 30/50\n",
      "135/135 [==============================] - 152s 1s/step - loss: 12.0999 - mean_absolute_error: 12.0999 - val_loss: 14.4093 - val_mean_absolute_error: 14.4093\n",
      "Epoch 31/50\n",
      "135/135 [==============================] - 158s 1s/step - loss: 12.2125 - mean_absolute_error: 12.2125 - val_loss: 14.6023 - val_mean_absolute_error: 14.6023\n",
      "Epoch 32/50\n",
      "135/135 [==============================] - 148s 1s/step - loss: 12.1299 - mean_absolute_error: 12.1299 - val_loss: 13.8617 - val_mean_absolute_error: 13.8617\n",
      "Epoch 33/50\n",
      "135/135 [==============================] - 158s 1s/step - loss: 11.9912 - mean_absolute_error: 11.9912 - val_loss: 13.7007 - val_mean_absolute_error: 13.7007\n",
      "Epoch 34/50\n",
      "135/135 [==============================] - 152s 1s/step - loss: 11.7255 - mean_absolute_error: 11.7255 - val_loss: 13.3851 - val_mean_absolute_error: 13.3851\n",
      "Epoch 35/50\n",
      "135/135 [==============================] - 150s 1s/step - loss: 11.5316 - mean_absolute_error: 11.5316 - val_loss: 13.3130 - val_mean_absolute_error: 13.3130\n",
      "Epoch 36/50\n",
      "135/135 [==============================] - 150s 1s/step - loss: 11.7720 - mean_absolute_error: 11.7720 - val_loss: 13.4974 - val_mean_absolute_error: 13.4974\n",
      "Epoch 37/50\n",
      "135/135 [==============================] - 120s 884ms/step - loss: 11.4445 - mean_absolute_error: 11.4445 - val_loss: 13.0049 - val_mean_absolute_error: 13.0049\n",
      "Epoch 38/50\n",
      "135/135 [==============================] - 114s 845ms/step - loss: 11.6448 - mean_absolute_error: 11.6448 - val_loss: 13.3612 - val_mean_absolute_error: 13.3612\n",
      "Epoch 39/50\n",
      "135/135 [==============================] - 116s 856ms/step - loss: 11.4192 - mean_absolute_error: 11.4192 - val_loss: 12.7228 - val_mean_absolute_error: 12.7228\n",
      "Epoch 40/50\n",
      "135/135 [==============================] - 116s 858ms/step - loss: 11.5140 - mean_absolute_error: 11.5140 - val_loss: 13.0593 - val_mean_absolute_error: 13.0593\n",
      "Epoch 41/50\n",
      "135/135 [==============================] - 117s 862ms/step - loss: 11.4436 - mean_absolute_error: 11.4436 - val_loss: 13.2819 - val_mean_absolute_error: 13.2819\n",
      "Epoch 42/50\n",
      "135/135 [==============================] - 119s 881ms/step - loss: 11.3960 - mean_absolute_error: 11.3960 - val_loss: 13.0238 - val_mean_absolute_error: 13.0238\n",
      "Epoch 43/50\n",
      "135/135 [==============================] - 116s 855ms/step - loss: 11.1360 - mean_absolute_error: 11.1360 - val_loss: 13.3139 - val_mean_absolute_error: 13.3139\n",
      "Epoch 44/50\n",
      "135/135 [==============================] - 117s 867ms/step - loss: 11.3424 - mean_absolute_error: 11.3424 - val_loss: 13.3826 - val_mean_absolute_error: 13.3826\n",
      "Epoch 45/50\n",
      "135/135 [==============================] - 116s 860ms/step - loss: 11.1279 - mean_absolute_error: 11.1279 - val_loss: 13.3173 - val_mean_absolute_error: 13.3173\n",
      "Epoch 46/50\n",
      "135/135 [==============================] - 116s 857ms/step - loss: 11.3608 - mean_absolute_error: 11.3608 - val_loss: 14.1528 - val_mean_absolute_error: 14.1528\n",
      "Epoch 47/50\n",
      "135/135 [==============================] - 114s 839ms/step - loss: 11.0480 - mean_absolute_error: 11.0480 - val_loss: 13.0187 - val_mean_absolute_error: 13.0187\n",
      "Epoch 48/50\n",
      "135/135 [==============================] - 112s 827ms/step - loss: 11.1073 - mean_absolute_error: 11.1073 - val_loss: 12.9351 - val_mean_absolute_error: 12.9351\n",
      "Epoch 49/50\n",
      "135/135 [==============================] - 112s 826ms/step - loss: 11.1352 - mean_absolute_error: 11.1352 - val_loss: 12.7950 - val_mean_absolute_error: 12.7950\n",
      "Epoch 50/50\n",
      "135/135 [==============================] - 112s 825ms/step - loss: 10.9904 - mean_absolute_error: 10.9904 - val_loss: 12.7187 - val_mean_absolute_error: 12.7187\n"
     ]
    }
   ],
   "source": [
    "model = build_model()\n",
    "\n",
    "model.compile(loss='mean_absolute_error',\n",
    "              optimizer='adam',\n",
    "              metrics=['mean_absolute_error'])\n",
    "\n",
    "model_history = model.fit(\n",
    "            datagen.flow(x,y,batch_size=batch_size),\n",
    "            steps_per_epoch = steps_per_epoch,\n",
    "            validation_data = (x_test,y_test),\n",
    "            epochs = epochs,\n",
    "            verbose=True)\n",
    "\n",
    "#model.evaluate() Kan brukes for å sjekke modellen, men det er nok bedre å gjøre det direkte i mo del_fit."
   ]
  },
  {
   "cell_type": "code",
   "execution_count": 21,
   "metadata": {},
   "outputs": [
    {
     "data": {
      "image/png": "[encoded data removed]",
      "text/plain": [
       "<Figure size 432x288 with 1 Axes>"
      ]
     },
     "metadata": {
      "needs_background": "light"
     },
     "output_type": "display_data"
    }
   ],
   "source": [
    "import matplotlib.pyplot as plt\n",
    "\n",
    "loss = model_history.history['loss']\n",
    "val_loss = model_history.history['val_loss']\n",
    "\n",
    "epochs = range(50)\n",
    "\n",
    "plt.plot(epochs, loss, 'bo', label='Training Loss')\n",
    "plt.plot(epochs, val_loss, 'b', label='Validation Loss')\n",
    "plt.title('Training and validation loss')\n",
    "plt.legend()\n",
    "\n",
    "plt.show()"
   ]
  },
  {
   "cell_type": "code",
   "execution_count": 22,
   "metadata": {},
   "outputs": [],
   "source": [
    "def classify(num):\n",
    "    if(num > 100):\n",
    "        return 10\n",
    "    return num//10\n",
    "\n",
    "def is_correct(val_num, pred_num) -> bool:\n",
    "    num = classify(pred_num)\n",
    "    num2 = classify(val_num)\n",
    "    if(num == num2):        \n",
    "        return True\n",
    "    else:\n",
    "        return False"
   ]
  },
  {
   "cell_type": "code",
   "execution_count": 23,
   "metadata": {},
   "outputs": [
    {
     "data": {
      "text/plain": [
       "28.554070473876063"
      ]
     },
     "execution_count": 23,
     "metadata": {},
     "output_type": "execute_result"
    }
   ],
   "source": [
    "def model_accuracy(model, val_x, val_y):\n",
    "    num_correct = 0\n",
    "    for i in range(len(val_x)):\n",
    "        val = tf.expand_dims(val_x[i], 0)\n",
    "        pred_num = model.predict(val)\n",
    "        val_num = val_y[i]\n",
    "        if(is_correct(val_num, int(pred_num.item()))):\n",
    "            num_correct = num_correct + 1\n",
    "    return num_correct * 100 / len(val_x) \n",
    "\n",
    "model_accuracy(model, x_test, y_test)"
   ]
  },
  {
   "cell_type": "code",
   "execution_count": 24,
   "metadata": {},
   "outputs": [],
   "source": [
    "def test_model(model, image_path):\n",
    "    image = keras.preprocessing.image.load_img(image_path, grayscale=False, color_mode='rgb',\n",
    "                                               target_size=(150, 150))\n",
    "    img_array = keras.preprocessing.image.img_to_array(image)\n",
    "    img_array = tf.expand_dims(img_array, 0)\n",
    "    img_array = np.asarray(img_array)\n",
    "    img_array = img_array.astype('float32')\n",
    "    img_array = img_array//255.0\n",
    "    predictions = model.predict(img_array)\n",
    "    print('Min: %.3f, Max: %.3f' % (img_array.min(), img_array.max()))\n",
    "    print(int(predictions.item()))"
   ]
  }
 ],
 "metadata": {
  "interpreter": {
   "hash": "aee8b7b246df8f9039afb4144a1f6fd8d2ca17a180786b69acc140d282b71a49"
  },
  "kernelspec": {
   "display_name": "Python 3 (ipykernel)",
   "language": "python",
   "name": "python3"
  },
  "language_info": {
   "codemirror_mode": {
    "name": "ipython",
    "version": 3
   },
   "file_extension": ".py",
   "mimetype": "text/x-python",
   "name": "python",
   "nbconvert_exporter": "python",
   "pygments_lexer": "ipython3",
   "version": "3.9.8"
  }
 },
 "nbformat": 4,
 "nbformat_minor": 2
}
