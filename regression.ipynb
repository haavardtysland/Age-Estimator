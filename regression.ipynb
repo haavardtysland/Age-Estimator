{
 "cells": [
  {
   "cell_type": "code",
   "execution_count": 79,
   "metadata": {},
   "outputs": [
    {
     "name": "stdout",
     "output_type": "stream",
     "text": [
      "8594\n",
      "8594\n"
     ]
    }
   ],
   "source": [
    "import tensorflow as tf\n",
    "from tensorflow import keras\n",
    "from PIL import Image\n",
    "import os\n",
    "import numpy as np\n",
    "\n",
    "IMAGE_SIZE = (150,150)\n",
    "\n",
    "x = []\n",
    "y = []\n",
    "\n",
    "folder = './train'\n",
    "set = os.listdir(folder)\n",
    "num_classes = 0\n",
    "\n",
    "for i in set:\n",
    "    if(int(i) <= 90):\n",
    "        num_classes += 1\n",
    "        for file in os.listdir(f\"{folder}/{i}\"):\n",
    "            if file[-4:]=='.jpg':\n",
    "                image=keras.preprocessing.image.load_img(f\"{folder}/{i}/{file}\", grayscale=False, color_mode='rgb', target_size=(150,150))\n",
    "                x_arr = keras.preprocessing.image.img_to_array(image)\n",
    "                y.append(int(i[-3:]))\n",
    "                x.append(x_arr)\n",
    "#print(f\"Det er {num_classes} klasser\")\n",
    "print(len(x))\n",
    "print(len(y))"
   ]
  },
  {
   "cell_type": "code",
   "execution_count": 80,
   "metadata": {},
   "outputs": [
    {
     "name": "stdout",
     "output_type": "stream",
     "text": [
      "3115\n"
     ]
    },
    {
     "data": {
      "text/plain": [
       "3115"
      ]
     },
     "execution_count": 80,
     "metadata": {},
     "output_type": "execute_result"
    }
   ],
   "source": [
    "import os\n",
    "x_test = []\n",
    "y_test = []\n",
    "\n",
    "folder = './test'\n",
    "set = os.listdir(folder)\n",
    "for i in set:\n",
    "    if(int(i) <= 90):\n",
    "        for file in os.listdir(f\"{folder}/{i}\"):\n",
    "            if file[-4:]=='.jpg':\n",
    "                image=keras.preprocessing.image.load_img(f\"{folder}/{i}/{file}\", grayscale=False, color_mode='rgb', target_size=(150,150))\n",
    "                x_arr = keras.preprocessing.image.img_to_array(image)\n",
    "                y_test.append(int(i[-3:]))\n",
    "                x_test.append(x_arr)\n",
    "print(len(x_test))\n",
    "len(x_test)"
   ]
  },
  {
   "cell_type": "code",
   "execution_count": 81,
   "metadata": {},
   "outputs": [
    {
     "name": "stdout",
     "output_type": "stream",
     "text": [
      "Min: 0.000, Max: 1.000\n",
      "Min: 0.000, Max: 1.000\n"
     ]
    }
   ],
   "source": [
    "x = np.asarray(x)\n",
    "y = np.asarray(y)\n",
    "x = x.astype('float32')\n",
    "x /= 255.0\n",
    "\n",
    "x_test = np.asarray(x_test)\n",
    "y_test = np.asarray(y_test)\n",
    "x_test = x_test.astype('float32')\n",
    "x_test /= 255.0\n",
    "\n",
    "print('Min: %.3f, Max: %.3f' % (x.min(), x.max()))\n",
    "print('Min: %.3f, Max: %.3f' % (x_test.min(), x_test.max()))"
   ]
  },
  {
   "cell_type": "code",
   "execution_count": 82,
   "metadata": {},
   "outputs": [
    {
     "name": "stdout",
     "output_type": "stream",
     "text": [
      "(8594, 150, 150, 3)\n",
      "(8594,)\n",
      "(3115, 150, 150, 3)\n",
      "(3115,)\n"
     ]
    }
   ],
   "source": [
    "print(x.shape)\n",
    "print(y.shape)\n",
    "print(x_test.shape)\n",
    "print(y_test.shape)"
   ]
  },
  {
   "cell_type": "code",
   "execution_count": 83,
   "metadata": {},
   "outputs": [],
   "source": [
    "from tensorflow.keras.preprocessing.image import ImageDataGenerator\n",
    "\n",
    "datagen = ImageDataGenerator(\n",
    "    rotation_range=45,\n",
    "    shear_range = 0.2,\n",
    "    zoom_range = 0.2,\n",
    "    fill_mode='reflect',\n",
    "    horizontal_flip = True)\n"
   ]
  },
  {
   "cell_type": "code",
   "execution_count": 84,
   "metadata": {},
   "outputs": [
    {
     "name": "stdout",
     "output_type": "stream",
     "text": [
      "Model: \"sequential_3\"\n",
      "_________________________________________________________________\n",
      "Layer (type)                 Output Shape              Param #   \n",
      "=================================================================\n",
      "conv2d_12 (Conv2D)           (None, 148, 148, 32)      896       \n",
      "_________________________________________________________________\n",
      "max_pooling2d_12 (MaxPooling (None, 74, 74, 32)        0         \n",
      "_________________________________________________________________\n",
      "conv2d_13 (Conv2D)           (None, 72, 72, 64)        18496     \n",
      "_________________________________________________________________\n",
      "max_pooling2d_13 (MaxPooling (None, 36, 36, 64)        0         \n",
      "_________________________________________________________________\n",
      "conv2d_14 (Conv2D)           (None, 34, 34, 128)       73856     \n",
      "_________________________________________________________________\n",
      "max_pooling2d_14 (MaxPooling (None, 17, 17, 128)       0         \n",
      "_________________________________________________________________\n",
      "conv2d_15 (Conv2D)           (None, 15, 15, 128)       147584    \n",
      "_________________________________________________________________\n",
      "max_pooling2d_15 (MaxPooling (None, 7, 7, 128)         0         \n",
      "_________________________________________________________________\n",
      "flatten_3 (Flatten)          (None, 6272)              0         \n",
      "_________________________________________________________________\n",
      "dense_6 (Dense)              (None, 512)               3211776   \n",
      "_________________________________________________________________\n",
      "dense_7 (Dense)              (None, 1)                 513       \n",
      "=================================================================\n",
      "Total params: 3,453,121\n",
      "Trainable params: 3,453,121\n",
      "Non-trainable params: 0\n",
      "_________________________________________________________________\n"
     ]
    }
   ],
   "source": [
    "from tensorflow.keras import layers\n",
    "from tensorflow import keras\n",
    "def build_model():\n",
    "    return tf.keras.models.Sequential([\n",
    "    layers.Conv2D(32, (3,3), activation='relu', input_shape=(150, 150, 3)),\n",
    "    layers.MaxPooling2D(2, 2),\n",
    "    layers.Conv2D(64, (3,3), activation='relu'),\n",
    "    layers.MaxPooling2D(2,2),\n",
    "    layers.Conv2D(128, (3,3), activation='relu'),\n",
    "    layers.MaxPooling2D(2,2),\n",
    "    layers.Conv2D(128, (3,3), activation='relu'),\n",
    "    layers.MaxPooling2D(2,2),\n",
    "    layers.Flatten(),\n",
    "    layers.Dense(512, activation='relu'),\n",
    "    layers.Dense(1, activation='linear')\n",
    "])\n",
    "\n",
    "model = build_model()\n",
    "model.summary()"
   ]
  },
  {
   "cell_type": "code",
   "execution_count": 85,
   "metadata": {},
   "outputs": [
    {
     "name": "stdout",
     "output_type": "stream",
     "text": [
      "8594\n"
     ]
    }
   ],
   "source": [
    "epochs = 5\n",
    "batch_size= 128\n",
    "steps_per_epoch = len(x) // batch_size\n",
    "print(len(x))\n",
    "\n",
    "#Antall bilder = batch * steps = 20 * 100 = 2000"
   ]
  },
  {
   "cell_type": "code",
   "execution_count": 86,
   "metadata": {},
   "outputs": [
    {
     "name": "stdout",
     "output_type": "stream",
     "text": [
      "Epoch 1/5\n",
      "67/67 [==============================] - 144s 2s/step - loss: 21.5355 - mean_absolute_error: 21.5355 - val_loss: 23.0942 - val_mean_absolute_error: 23.0942\n",
      "Epoch 2/5\n",
      "67/67 [==============================] - 150s 2s/step - loss: 18.4821 - mean_absolute_error: 18.4821 - val_loss: 19.0349 - val_mean_absolute_error: 19.0349\n",
      "Epoch 3/5\n",
      "67/67 [==============================] - 142s 2s/step - loss: 17.1235 - mean_absolute_error: 17.1235 - val_loss: 18.3338 - val_mean_absolute_error: 18.3338\n",
      "Epoch 4/5\n",
      "67/67 [==============================] - 142s 2s/step - loss: 16.4507 - mean_absolute_error: 16.4507 - val_loss: 17.5858 - val_mean_absolute_error: 17.5858\n",
      "Epoch 5/5\n",
      "67/67 [==============================] - 144s 2s/step - loss: 16.5462 - mean_absolute_error: 16.5462 - val_loss: 17.3525 - val_mean_absolute_error: 17.3525\n"
     ]
    }
   ],
   "source": [
    "model = build_model()\n",
    "\n",
    "model.compile(loss='mean_absolute_error',\n",
    "              optimizer='adam',\n",
    "              metrics=['mean_absolute_error'])\n",
    "\n",
    "model_history = model.fit(\n",
    "            datagen.flow(x,y,batch_size=batch_size),\n",
    "            steps_per_epoch = steps_per_epoch,\n",
    "            validation_data = (x_test,y_test),\n",
    "            epochs = epochs,\n",
    "            verbose=True)\n",
    "\n",
    "#model.evaluate() Kan brukes for å sjekke modellen, men det er nok bedre å gjøre det direkte i mo del_fit."
   ]
  },
  {
   "cell_type": "code",
   "execution_count": 89,
   "metadata": {},
   "outputs": [],
   "source": [
    "def test_model(model, image_path):\n",
    "    image = keras.preprocessing.image.load_img(image_path, grayscale=False, color_mode='rgb',\n",
    "                                               target_size=(150, 150))\n",
    "    img_array = keras.preprocessing.image.img_to_array(image)\n",
    "    img_array = tf.expand_dims(img_array, 0)\n",
    "    img_array = np.asarray(img_array)\n",
    "    img_array = img_array.astype('float32')\n",
    "    img_array = img_array//255.0\n",
    "    predictions = model.predict(img_array)\n",
    "    print('Min: %.3f, Max: %.3f' % (img_array.min(), img_array.max()))\n",
    "    print(predictions)"
   ]
  },
  {
   "cell_type": "code",
   "execution_count": 95,
   "metadata": {},
   "outputs": [
    {
     "name": "stdout",
     "output_type": "stream",
     "text": [
      "Min: 0.000, Max: 1.000\n",
      "[[29.163895]]\n"
     ]
    }
   ],
   "source": []
  },
  {
   "cell_type": "code",
   "execution_count": null,
   "metadata": {},
   "outputs": [],
   "source": []
  }
 ],
 "metadata": {
  "interpreter": {
   "hash": "aee8b7b246df8f9039afb4144a1f6fd8d2ca17a180786b69acc140d282b71a49"
  },
  "kernelspec": {
   "display_name": "Python 3.9.7 64-bit",
   "language": "python",
   "name": "python3"
  },
  "language_info": {
   "codemirror_mode": {
    "name": "ipython",
    "version": 3
   },
   "file_extension": ".py",
   "mimetype": "text/x-python",
   "name": "python",
   "nbconvert_exporter": "python",
   "pygments_lexer": "ipython3",
   "version": "3.9.7"
  },
  "orig_nbformat": 4
 },
 "nbformat": 4,
 "nbformat_minor": 2
}
