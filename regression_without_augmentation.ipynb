{
 "cells": [
  {
   "cell_type": "code",
   "execution_count": 1,
   "metadata": {},
   "outputs": [
    {
     "name": "stdout",
     "output_type": "stream",
     "text": [
      "8651\n",
      "8651\n"
     ]
    }
   ],
   "source": [
    "import tensorflow as tf\n",
    "from tensorflow import keras\n",
    "from PIL import Image\n",
    "import os\n",
    "import numpy as np\n",
    "\n",
    "IMAGE_SIZE = (150,150)\n",
    "\n",
    "x = []\n",
    "y = []\n",
    "\n",
    "folder = './train'\n",
    "set = os.listdir(folder)\n",
    "num_classes = 0\n",
    "\n",
    "for i in set:\n",
    "        num_classes += 1\n",
    "        for file in os.listdir(f\"{folder}/{i}\"):\n",
    "            if file[-4:]=='.jpg':\n",
    "                image=keras.preprocessing.image.load_img(f\"{folder}/{i}/{file}\", grayscale=False, color_mode='rgb', target_size=(150,150))\n",
    "                x_arr = keras.preprocessing.image.img_to_array(image)\n",
    "                y.append(int(i[-3:]))\n",
    "                x.append(x_arr)\n",
    "#print(f\"Det er {num_classes} klasser\")\n",
    "print(len(x))\n",
    "print(len(y))"
   ]
  },
  {
   "cell_type": "code",
   "execution_count": 2,
   "metadata": {},
   "outputs": [
    {
     "name": "stdout",
     "output_type": "stream",
     "text": [
      "3292\n"
     ]
    },
    {
     "data": {
      "text/plain": [
       "3292"
      ]
     },
     "execution_count": 2,
     "metadata": {},
     "output_type": "execute_result"
    }
   ],
   "source": [
    "import os\n",
    "x_test = []\n",
    "y_test = []\n",
    "\n",
    "folder = './test'\n",
    "set = os.listdir(folder)\n",
    "for i in set:\n",
    "        for file in os.listdir(f\"{folder}/{i}\"):\n",
    "            if file[-4:]=='.jpg':\n",
    "                image=keras.preprocessing.image.load_img(f\"{folder}/{i}/{file}\", grayscale=False, color_mode='rgb', target_size=(150,150))\n",
    "                x_arr = keras.preprocessing.image.img_to_array(image)\n",
    "                y_test.append(int(i[-3:]))\n",
    "                x_test.append(x_arr)\n",
    "print(len(x_test))\n",
    "len(x_test)"
   ]
  },
  {
   "cell_type": "code",
   "execution_count": 3,
   "metadata": {},
   "outputs": [
    {
     "name": "stdout",
     "output_type": "stream",
     "text": [
      "Min: 0.000, Max: 1.000\n",
      "Min: 0.000, Max: 1.000\n"
     ]
    }
   ],
   "source": [
    "x = np.asarray(x)\n",
    "y = np.asarray(y)\n",
    "x = x.astype('float32')\n",
    "x /= 255.0\n",
    "\n",
    "x_test = np.asarray(x_test)\n",
    "y_test = np.asarray(y_test)\n",
    "x_test = x_test.astype('float32')\n",
    "x_test /= 255.0\n",
    "\n",
    "print('Min: %.3f, Max: %.3f' % (x.min(), x.max()))\n",
    "print('Min: %.3f, Max: %.3f' % (x_test.min(), x_test.max()))"
   ]
  },
  {
   "cell_type": "code",
   "execution_count": 4,
   "metadata": {},
   "outputs": [
    {
     "name": "stdout",
     "output_type": "stream",
     "text": [
      "(8651, 150, 150, 3)\n",
      "(8651,)\n",
      "(3292, 150, 150, 3)\n",
      "(3292,)\n"
     ]
    }
   ],
   "source": [
    "print(x.shape)\n",
    "print(y.shape)\n",
    "print(x_test.shape)\n",
    "print(y_test.shape)"
   ]
  },
  {
   "cell_type": "code",
   "execution_count": 5,
   "metadata": {},
   "outputs": [
    {
     "name": "stdout",
     "output_type": "stream",
     "text": [
      "Model: \"sequential\"\n",
      "_________________________________________________________________\n",
      "Layer (type)                 Output Shape              Param #   \n",
      "=================================================================\n",
      "conv2d (Conv2D)              (None, 148, 148, 32)      896       \n",
      "_________________________________________________________________\n",
      "max_pooling2d (MaxPooling2D) (None, 74, 74, 32)        0         \n",
      "_________________________________________________________________\n",
      "conv2d_1 (Conv2D)            (None, 72, 72, 64)        18496     \n",
      "_________________________________________________________________\n",
      "max_pooling2d_1 (MaxPooling2 (None, 36, 36, 64)        0         \n",
      "_________________________________________________________________\n",
      "conv2d_2 (Conv2D)            (None, 34, 34, 128)       73856     \n",
      "_________________________________________________________________\n",
      "max_pooling2d_2 (MaxPooling2 (None, 17, 17, 128)       0         \n",
      "_________________________________________________________________\n",
      "conv2d_3 (Conv2D)            (None, 15, 15, 128)       147584    \n",
      "_________________________________________________________________\n",
      "max_pooling2d_3 (MaxPooling2 (None, 7, 7, 128)         0         \n",
      "_________________________________________________________________\n",
      "flatten (Flatten)            (None, 6272)              0         \n",
      "_________________________________________________________________\n",
      "dense (Dense)                (None, 512)               3211776   \n",
      "_________________________________________________________________\n",
      "dense_1 (Dense)              (None, 1)                 513       \n",
      "=================================================================\n",
      "Total params: 3,453,121\n",
      "Trainable params: 3,453,121\n",
      "Non-trainable params: 0\n",
      "_________________________________________________________________\n"
     ]
    },
    {
     "name": "stderr",
     "output_type": "stream",
     "text": [
      "2021-11-22 10:26:48.097250: I tensorflow/core/platform/cpu_feature_guard.cc:142] This TensorFlow binary is optimized with oneAPI Deep Neural Network Library (oneDNN) to use the following CPU instructions in performance-critical operations:  AVX2 FMA\n",
      "To enable them in other operations, rebuild TensorFlow with the appropriate compiler flags.\n"
     ]
    }
   ],
   "source": [
    "from tensorflow.keras import layers\n",
    "from tensorflow import keras\n",
    "def build_model():\n",
    "    return tf.keras.models.Sequential([\n",
    "    layers.Conv2D(32, (3,3), activation='relu', input_shape=(150, 150, 3)),\n",
    "    layers.MaxPooling2D(2, 2),\n",
    "    layers.Conv2D(64, (3,3), activation='relu'),\n",
    "    layers.MaxPooling2D(2,2),\n",
    "    layers.Conv2D(128, (3,3), activation='relu'),\n",
    "    layers.MaxPooling2D(2,2),\n",
    "    layers.Conv2D(128, (3,3), activation='relu'),\n",
    "    layers.MaxPooling2D(2,2),\n",
    "    layers.Flatten(),\n",
    "    layers.Dense(512, activation='relu'),\n",
    "    layers.Dense(1, activation='linear')\n",
    "])\n",
    "\n",
    "model = build_model()\n",
    "model.summary()"
   ]
  },
  {
   "cell_type": "code",
   "execution_count": 6,
   "metadata": {},
   "outputs": [
    {
     "name": "stdout",
     "output_type": "stream",
     "text": [
      "8651\n"
     ]
    }
   ],
   "source": [
    "epochs = 50\n",
    "batch_size= 64\n",
    "steps_per_epoch = len(x) // batch_size\n",
    "print(len(x))\n",
    "\n",
    "#Antall bilder = batch * steps = 20 * 100 = 2000"
   ]
  },
  {
   "cell_type": "code",
   "execution_count": 7,
   "metadata": {},
   "outputs": [
    {
     "name": "stderr",
     "output_type": "stream",
     "text": [
      "2021-11-22 10:26:51.661410: I tensorflow/compiler/mlir/mlir_graph_optimization_pass.cc:185] None of the MLIR Optimization Passes are enabled (registered 2)\n"
     ]
    },
    {
     "name": "stdout",
     "output_type": "stream",
     "text": [
      "Epoch 1/50\n",
      "135/135 [==============================] - 110s 808ms/step - loss: 22.1307 - mean_absolute_error: 22.1307 - val_loss: 23.3316 - val_mean_absolute_error: 23.3316\n",
      "Epoch 2/50\n",
      "135/135 [==============================] - 109s 814ms/step - loss: 18.4196 - mean_absolute_error: 18.4196 - val_loss: 20.2151 - val_mean_absolute_error: 20.2151\n",
      "Epoch 3/50\n",
      "135/135 [==============================] - 109s 808ms/step - loss: 16.2827 - mean_absolute_error: 16.2827 - val_loss: 21.4901 - val_mean_absolute_error: 21.4901\n",
      "Epoch 4/50\n",
      "135/135 [==============================] - 110s 815ms/step - loss: 15.7990 - mean_absolute_error: 15.7990 - val_loss: 20.0631 - val_mean_absolute_error: 20.0631\n",
      "Epoch 5/50\n",
      "135/135 [==============================] - 111s 820ms/step - loss: 14.9363 - mean_absolute_error: 14.9363 - val_loss: 18.2068 - val_mean_absolute_error: 18.2068\n",
      "Epoch 6/50\n",
      "135/135 [==============================] - 112s 827ms/step - loss: 14.3438 - mean_absolute_error: 14.3438 - val_loss: 18.0390 - val_mean_absolute_error: 18.0390\n",
      "Epoch 7/50\n",
      "135/135 [==============================] - 111s 826ms/step - loss: 14.1170 - mean_absolute_error: 14.1170 - val_loss: 16.5096 - val_mean_absolute_error: 16.5096\n",
      "Epoch 8/50\n",
      "135/135 [==============================] - 112s 831ms/step - loss: 13.8324 - mean_absolute_error: 13.8324 - val_loss: 16.1356 - val_mean_absolute_error: 16.1356\n",
      "Epoch 9/50\n",
      "135/135 [==============================] - 113s 834ms/step - loss: 13.7865 - mean_absolute_error: 13.7865 - val_loss: 16.2945 - val_mean_absolute_error: 16.2945\n",
      "Epoch 10/50\n",
      "135/135 [==============================] - 113s 834ms/step - loss: 13.2777 - mean_absolute_error: 13.2777 - val_loss: 15.9680 - val_mean_absolute_error: 15.9680\n",
      "Epoch 11/50\n",
      "135/135 [==============================] - 112s 832ms/step - loss: 13.3881 - mean_absolute_error: 13.3881 - val_loss: 16.9270 - val_mean_absolute_error: 16.9270\n",
      "Epoch 12/50\n",
      "135/135 [==============================] - 115s 851ms/step - loss: 12.6234 - mean_absolute_error: 12.6234 - val_loss: 15.6998 - val_mean_absolute_error: 15.6998\n",
      "Epoch 13/50\n",
      "135/135 [==============================] - 158s 1s/step - loss: 12.3997 - mean_absolute_error: 12.3997 - val_loss: 15.0458 - val_mean_absolute_error: 15.0458\n",
      "Epoch 14/50\n",
      "135/135 [==============================] - 160s 1s/step - loss: 11.8620 - mean_absolute_error: 11.8620 - val_loss: 14.9323 - val_mean_absolute_error: 14.9323\n",
      "Epoch 15/50\n",
      "135/135 [==============================] - 155s 1s/step - loss: 11.6763 - mean_absolute_error: 11.6763 - val_loss: 15.3129 - val_mean_absolute_error: 15.3129\n",
      "Epoch 16/50\n",
      "135/135 [==============================] - 145s 1s/step - loss: 11.3852 - mean_absolute_error: 11.3852 - val_loss: 14.7961 - val_mean_absolute_error: 14.7961\n",
      "Epoch 17/50\n",
      "135/135 [==============================] - 148s 1s/step - loss: 10.8537 - mean_absolute_error: 10.8537 - val_loss: 16.4676 - val_mean_absolute_error: 16.4676\n",
      "Epoch 18/50\n",
      "135/135 [==============================] - 132s 977ms/step - loss: 10.6833 - mean_absolute_error: 10.6833 - val_loss: 14.8645 - val_mean_absolute_error: 14.8645\n",
      "Epoch 19/50\n",
      "135/135 [==============================] - 127s 944ms/step - loss: 10.4201 - mean_absolute_error: 10.4201 - val_loss: 14.3692 - val_mean_absolute_error: 14.3692\n",
      "Epoch 20/50\n",
      "135/135 [==============================] - 131s 974ms/step - loss: 9.9588 - mean_absolute_error: 9.9588 - val_loss: 14.7373 - val_mean_absolute_error: 14.7373\n",
      "Epoch 21/50\n",
      "135/135 [==============================] - 135s 1s/step - loss: 9.5899 - mean_absolute_error: 9.5899 - val_loss: 14.5194 - val_mean_absolute_error: 14.5194\n",
      "Epoch 22/50\n",
      "135/135 [==============================] - 126s 937ms/step - loss: 9.3380 - mean_absolute_error: 9.3380 - val_loss: 14.2078 - val_mean_absolute_error: 14.2078\n",
      "Epoch 23/50\n",
      "135/135 [==============================] - 125s 927ms/step - loss: 8.4529 - mean_absolute_error: 8.4529 - val_loss: 14.0908 - val_mean_absolute_error: 14.0908\n",
      "Epoch 24/50\n",
      "135/135 [==============================] - 126s 933ms/step - loss: 8.1612 - mean_absolute_error: 8.1612 - val_loss: 14.2708 - val_mean_absolute_error: 14.2708\n",
      "Epoch 25/50\n",
      "135/135 [==============================] - 131s 973ms/step - loss: 7.7606 - mean_absolute_error: 7.7606 - val_loss: 14.3468 - val_mean_absolute_error: 14.3468\n",
      "Epoch 26/50\n",
      "135/135 [==============================] - 129s 957ms/step - loss: 7.2962 - mean_absolute_error: 7.2962 - val_loss: 14.6051 - val_mean_absolute_error: 14.6051\n",
      "Epoch 27/50\n",
      "135/135 [==============================] - 129s 958ms/step - loss: 7.1448 - mean_absolute_error: 7.1448 - val_loss: 14.0588 - val_mean_absolute_error: 14.0588\n",
      "Epoch 28/50\n",
      "135/135 [==============================] - 129s 953ms/step - loss: 6.8222 - mean_absolute_error: 6.8222 - val_loss: 13.9581 - val_mean_absolute_error: 13.9581\n",
      "Epoch 29/50\n",
      "135/135 [==============================] - 130s 962ms/step - loss: 6.1903 - mean_absolute_error: 6.1903 - val_loss: 14.0529 - val_mean_absolute_error: 14.0529\n",
      "Epoch 30/50\n",
      "135/135 [==============================] - 128s 950ms/step - loss: 6.3265 - mean_absolute_error: 6.3265 - val_loss: 15.0156 - val_mean_absolute_error: 15.0156\n",
      "Epoch 31/50\n",
      "135/135 [==============================] - 130s 965ms/step - loss: 5.9186 - mean_absolute_error: 5.9186 - val_loss: 14.7956 - val_mean_absolute_error: 14.7956\n",
      "Epoch 32/50\n",
      "135/135 [==============================] - 136s 1s/step - loss: 5.6936 - mean_absolute_error: 5.6936 - val_loss: 14.3188 - val_mean_absolute_error: 14.3188\n",
      "Epoch 33/50\n",
      "135/135 [==============================] - 127s 944ms/step - loss: 5.2346 - mean_absolute_error: 5.2346 - val_loss: 14.3980 - val_mean_absolute_error: 14.3980\n",
      "Epoch 34/50\n",
      "135/135 [==============================] - 128s 950ms/step - loss: 5.1875 - mean_absolute_error: 5.1875 - val_loss: 14.4183 - val_mean_absolute_error: 14.4183\n",
      "Epoch 35/50\n",
      "135/135 [==============================] - 134s 991ms/step - loss: 4.7868 - mean_absolute_error: 4.7868 - val_loss: 14.3627 - val_mean_absolute_error: 14.3627\n",
      "Epoch 36/50\n",
      "135/135 [==============================] - 137s 1s/step - loss: 4.8029 - mean_absolute_error: 4.8029 - val_loss: 14.3463 - val_mean_absolute_error: 14.3463\n",
      "Epoch 37/50\n",
      "135/135 [==============================] - 136s 1s/step - loss: 4.8619 - mean_absolute_error: 4.8619 - val_loss: 14.0486 - val_mean_absolute_error: 14.0486\n",
      "Epoch 38/50\n",
      "135/135 [==============================] - 135s 999ms/step - loss: 4.5552 - mean_absolute_error: 4.5552 - val_loss: 14.1748 - val_mean_absolute_error: 14.1748\n",
      "Epoch 39/50\n",
      "135/135 [==============================] - 137s 1s/step - loss: 4.5101 - mean_absolute_error: 4.5101 - val_loss: 14.2438 - val_mean_absolute_error: 14.2438\n",
      "Epoch 40/50\n",
      "135/135 [==============================] - 141s 1s/step - loss: 4.3559 - mean_absolute_error: 4.3559 - val_loss: 14.2267 - val_mean_absolute_error: 14.2267\n",
      "Epoch 41/50\n",
      "135/135 [==============================] - 134s 996ms/step - loss: 4.1310 - mean_absolute_error: 4.1310 - val_loss: 14.1810 - val_mean_absolute_error: 14.1810\n",
      "Epoch 42/50\n",
      "135/135 [==============================] - 145s 1s/step - loss: 4.0686 - mean_absolute_error: 4.0686 - val_loss: 14.2572 - val_mean_absolute_error: 14.2572\n",
      "Epoch 43/50\n",
      "135/135 [==============================] - 135s 1s/step - loss: 3.8506 - mean_absolute_error: 3.8506 - val_loss: 14.4590 - val_mean_absolute_error: 14.4590\n",
      "Epoch 44/50\n",
      "135/135 [==============================] - 136s 1s/step - loss: 3.7580 - mean_absolute_error: 3.7580 - val_loss: 14.5967 - val_mean_absolute_error: 14.5967\n",
      "Epoch 45/50\n",
      "135/135 [==============================] - 135s 1s/step - loss: 3.7823 - mean_absolute_error: 3.7823 - val_loss: 14.3474 - val_mean_absolute_error: 14.3474\n",
      "Epoch 46/50\n",
      "135/135 [==============================] - 141s 1s/step - loss: 3.5820 - mean_absolute_error: 3.5820 - val_loss: 14.2430 - val_mean_absolute_error: 14.2430\n",
      "Epoch 47/50\n",
      "135/135 [==============================] - 136s 1s/step - loss: 3.4415 - mean_absolute_error: 3.4415 - val_loss: 14.3786 - val_mean_absolute_error: 14.3786\n",
      "Epoch 48/50\n",
      "135/135 [==============================] - 137s 1s/step - loss: 3.4054 - mean_absolute_error: 3.4054 - val_loss: 14.4061 - val_mean_absolute_error: 14.4061\n",
      "Epoch 49/50\n",
      "135/135 [==============================] - 149s 1s/step - loss: 3.5073 - mean_absolute_error: 3.5073 - val_loss: 14.2910 - val_mean_absolute_error: 14.2910\n",
      "Epoch 50/50\n",
      "135/135 [==============================] - 135s 1s/step - loss: 3.3085 - mean_absolute_error: 3.3085 - val_loss: 14.3671 - val_mean_absolute_error: 14.3671\n"
     ]
    }
   ],
   "source": [
    "model = build_model()\n",
    "\n",
    "model.compile(loss='mean_absolute_error',\n",
    "              optimizer='adam',\n",
    "              metrics=['mean_absolute_error'])\n",
    "\n",
    "model_history = model.fit(\n",
    "            x,y,\n",
    "            batch_size = batch_size,\n",
    "            steps_per_epoch = steps_per_epoch,\n",
    "            validation_data = (x_test,y_test),\n",
    "            epochs = epochs,\n",
    "            verbose=True)\n",
    "\n",
    "#model.evaluate() Kan brukes for å sjekke modellen, men det er nok bedre å gjøre det direkte i mo del_fit."
   ]
  },
  {
   "cell_type": "code",
   "execution_count": 8,
   "metadata": {},
   "outputs": [
    {
     "data": {
      "image/png": "[encoded data removed]",
      "text/plain": [
       "<Figure size 432x288 with 1 Axes>"
      ]
     },
     "metadata": {
      "needs_background": "light"
     },
     "output_type": "display_data"
    }
   ],
   "source": [
    "import matplotlib.pyplot as plt\n",
    "\n",
    "loss = model_history.history['loss']\n",
    "val_loss = model_history.history['val_loss']\n",
    "\n",
    "epochs = range(50)\n",
    "\n",
    "plt.plot(epochs, loss, 'bo', label='Training Loss')\n",
    "plt.plot(epochs, val_loss, 'b', label='Validation Loss')\n",
    "plt.title('Training and validation loss')\n",
    "plt.legend()\n",
    "\n",
    "plt.show()"
   ]
  },
  {
   "cell_type": "code",
   "execution_count": 9,
   "metadata": {},
   "outputs": [],
   "source": [
    "def classify(num):\n",
    "    if(num > 100):\n",
    "        return 10\n",
    "    return num//10\n",
    "\n",
    "def is_correct(val_num, pred_num) -> bool:\n",
    "    num = classify(pred_num)\n",
    "    num2 = classify(val_num)\n",
    "    if(num == num2):\n",
    "        return True\n",
    "    else:\n",
    "        return False"
   ]
  },
  {
   "cell_type": "code",
   "execution_count": 10,
   "metadata": {},
   "outputs": [
    {
     "data": {
      "text/plain": [
       "25.455650060753342"
      ]
     },
     "execution_count": 10,
     "metadata": {},
     "output_type": "execute_result"
    }
   ],
   "source": [
    "def model_accuracy(model, val_x, val_y):\n",
    "    num_correct = 0\n",
    "    for i in range(len(val_x)):\n",
    "        val = tf.expand_dims(val_x[i], 0)\n",
    "        pred_num = model.predict(val)\n",
    "        val_num = val_y[i]\n",
    "        if(is_correct(val_num, int(pred_num.item()))):\n",
    "            num_correct = num_correct + 1\n",
    "    return num_correct * 100 / len(val_x) \n",
    "\n",
    "model_accuracy(model, x_test, y_test)"
   ]
  },
  {
   "cell_type": "code",
   "execution_count": 11,
   "metadata": {},
   "outputs": [],
   "source": [
    "def test_model(model, image_path):\n",
    "    image = keras.preprocessing.image.load_img(image_path, grayscale=False, color_mode='rgb',\n",
    "                                               target_size=(150, 150))\n",
    "    img_array = keras.preprocessing.image.img_to_array(image)\n",
    "    img_array = tf.expand_dims(img_array, 0)\n",
    "    img_array = np.asarray(img_array)\n",
    "    img_array = img_array.astype('float32')\n",
    "    img_array = img_array//255.0\n",
    "    predictions = model.predict(img_array)\n",
    "    print('Min: %.3f, Max: %.3f' % (img_array.min(), img_array.max()))\n",
    "    print(predictions)"
   ]
  }
 ],
 "metadata": {
  "interpreter": {
   "hash": "aee8b7b246df8f9039afb4144a1f6fd8d2ca17a180786b69acc140d282b71a49"
  },
  "kernelspec": {
   "display_name": "Python 3 (ipykernel)",
   "language": "python",
   "name": "python3"
  },
  "language_info": {
   "codemirror_mode": {
    "name": "ipython",
    "version": 3
   },
   "file_extension": ".py",
   "mimetype": "text/x-python",
   "name": "python",
   "nbconvert_exporter": "python",
   "pygments_lexer": "ipython3",
   "version": "3.9.8"
  }
 },
 "nbformat": 4,
 "nbformat_minor": 2
}
