{
 "cells": [
  {
   "cell_type": "code",
   "execution_count": 1,
   "metadata": {},
   "outputs": [
    {
     "name": "stdout",
     "output_type": "stream",
     "text": [
      "8594\n",
      "8594\n"
     ]
    }
   ],
   "source": [
    "import tensorflow as tf\n",
    "from tensorflow import keras\n",
    "from PIL import Image\n",
    "import os\n",
    "import numpy as np\n",
    "\n",
    "IMAGE_SIZE = (150,150)\n",
    "\n",
    "x = []\n",
    "y = []\n",
    "\n",
    "folder = './train'\n",
    "set = os.listdir(folder)\n",
    "num_classes = 0\n",
    "\n",
    "for i in set:\n",
    "    if(int(i) <= 90):\n",
    "        num_classes += 1\n",
    "        for file in os.listdir(f\"{folder}/{i}\"):\n",
    "            if file[-4:]=='.jpg':\n",
    "                image=keras.preprocessing.image.load_img(f\"{folder}/{i}/{file}\", grayscale=False, color_mode='rgb', target_size=(150,150))\n",
    "                x_arr = keras.preprocessing.image.img_to_array(image)\n",
    "                y.append(int(i[-3:]))\n",
    "                x.append(x_arr)\n",
    "#print(f\"Det er {num_classes} klasser\")\n",
    "print(len(x))\n",
    "print(len(y))"
   ]
  },
  {
   "cell_type": "code",
   "execution_count": 2,
   "metadata": {},
   "outputs": [
    {
     "name": "stdout",
     "output_type": "stream",
     "text": [
      "3115\n"
     ]
    },
    {
     "data": {
      "text/plain": [
       "3115"
      ]
     },
     "execution_count": 2,
     "metadata": {},
     "output_type": "execute_result"
    }
   ],
   "source": [
    "import os\n",
    "x_test = []\n",
    "y_test = []\n",
    "\n",
    "folder = './test'\n",
    "set = os.listdir(folder)\n",
    "for i in set:\n",
    "    if(int(i) <= 90):\n",
    "        for file in os.listdir(f\"{folder}/{i}\"):\n",
    "            if file[-4:]=='.jpg':\n",
    "                image=keras.preprocessing.image.load_img(f\"{folder}/{i}/{file}\", grayscale=False, color_mode='rgb', target_size=(150,150))\n",
    "                x_arr = keras.preprocessing.image.img_to_array(image)\n",
    "                y_test.append(int(i[-3:]))\n",
    "                x_test.append(x_arr)\n",
    "print(len(x_test))\n",
    "len(x_test)"
   ]
  },
  {
   "cell_type": "code",
   "execution_count": 3,
   "metadata": {},
   "outputs": [
    {
     "name": "stdout",
     "output_type": "stream",
     "text": [
      "Min: 0.000, Max: 1.000\n",
      "Min: 0.000, Max: 1.000\n"
     ]
    }
   ],
   "source": [
    "x = np.asarray(x)\n",
    "y = np.asarray(y)\n",
    "x = x.astype('float32')\n",
    "x /= 255.0\n",
    "\n",
    "x_test = np.asarray(x_test)\n",
    "y_test = np.asarray(y_test)\n",
    "x_test = x_test.astype('float32')\n",
    "x_test /= 255.0\n",
    "\n",
    "print('Min: %.3f, Max: %.3f' % (x.min(), x.max()))\n",
    "print('Min: %.3f, Max: %.3f' % (x_test.min(), x_test.max()))"
   ]
  },
  {
   "cell_type": "code",
   "execution_count": 4,
   "metadata": {},
   "outputs": [
    {
     "name": "stdout",
     "output_type": "stream",
     "text": [
      "(8594, 150, 150, 3)\n",
      "(8594,)\n",
      "(3115, 150, 150, 3)\n",
      "(3115,)\n"
     ]
    }
   ],
   "source": [
    "print(x.shape)\n",
    "print(y.shape)\n",
    "print(x_test.shape)\n",
    "print(y_test.shape)"
   ]
  },
  {
   "cell_type": "code",
   "execution_count": 5,
   "metadata": {},
   "outputs": [
    {
     "name": "stdout",
     "output_type": "stream",
     "text": [
      "Model: \"sequential\"\n",
      "_________________________________________________________________\n",
      "Layer (type)                 Output Shape              Param #   \n",
      "=================================================================\n",
      "conv2d (Conv2D)              (None, 148, 148, 32)      896       \n",
      "_________________________________________________________________\n",
      "max_pooling2d (MaxPooling2D) (None, 74, 74, 32)        0         \n",
      "_________________________________________________________________\n",
      "conv2d_1 (Conv2D)            (None, 72, 72, 64)        18496     \n",
      "_________________________________________________________________\n",
      "max_pooling2d_1 (MaxPooling2 (None, 36, 36, 64)        0         \n",
      "_________________________________________________________________\n",
      "conv2d_2 (Conv2D)            (None, 34, 34, 128)       73856     \n",
      "_________________________________________________________________\n",
      "max_pooling2d_2 (MaxPooling2 (None, 17, 17, 128)       0         \n",
      "_________________________________________________________________\n",
      "conv2d_3 (Conv2D)            (None, 15, 15, 128)       147584    \n",
      "_________________________________________________________________\n",
      "max_pooling2d_3 (MaxPooling2 (None, 7, 7, 128)         0         \n",
      "_________________________________________________________________\n",
      "flatten (Flatten)            (None, 6272)              0         \n",
      "_________________________________________________________________\n",
      "dense (Dense)                (None, 512)               3211776   \n",
      "_________________________________________________________________\n",
      "dense_1 (Dense)              (None, 1)                 513       \n",
      "=================================================================\n",
      "Total params: 3,453,121\n",
      "Trainable params: 3,453,121\n",
      "Non-trainable params: 0\n",
      "_________________________________________________________________\n"
     ]
    },
    {
     "name": "stderr",
     "output_type": "stream",
     "text": [
      "2021-11-18 12:39:50.314085: I tensorflow/core/platform/cpu_feature_guard.cc:142] This TensorFlow binary is optimized with oneAPI Deep Neural Network Library (oneDNN) to use the following CPU instructions in performance-critical operations:  AVX2 FMA\n",
      "To enable them in other operations, rebuild TensorFlow with the appropriate compiler flags.\n"
     ]
    }
   ],
   "source": [
    "from tensorflow.keras import layers\n",
    "from tensorflow import keras\n",
    "def build_model():\n",
    "    return tf.keras.models.Sequential([\n",
    "    layers.Conv2D(32, (3,3), activation='relu', input_shape=(150, 150, 3)),\n",
    "    layers.MaxPooling2D(2, 2),\n",
    "    layers.Conv2D(64, (3,3), activation='relu'),\n",
    "    layers.MaxPooling2D(2,2),\n",
    "    layers.Conv2D(128, (3,3), activation='relu'),\n",
    "    layers.MaxPooling2D(2,2),\n",
    "    layers.Conv2D(128, (3,3), activation='relu'),\n",
    "    layers.MaxPooling2D(2,2),\n",
    "    layers.Flatten(),\n",
    "    layers.Dense(512, activation='relu'),\n",
    "    layers.Dense(1, activation='linear')\n",
    "])\n",
    "\n",
    "model = build_model()\n",
    "model.summary()"
   ]
  },
  {
   "cell_type": "code",
   "execution_count": 6,
   "metadata": {},
   "outputs": [
    {
     "name": "stdout",
     "output_type": "stream",
     "text": [
      "8594\n"
     ]
    }
   ],
   "source": [
    "epochs = 50\n",
    "batch_size= 64\n",
    "steps_per_epoch = len(x) // batch_size\n",
    "print(len(x))\n",
    "\n",
    "#Antall bilder = batch * steps = 20 * 100 = 2000"
   ]
  },
  {
   "cell_type": "code",
   "execution_count": 7,
   "metadata": {},
   "outputs": [
    {
     "name": "stderr",
     "output_type": "stream",
     "text": [
      "2021-11-18 12:40:15.013734: I tensorflow/compiler/mlir/mlir_graph_optimization_pass.cc:185] None of the MLIR Optimization Passes are enabled (registered 2)\n"
     ]
    },
    {
     "name": "stdout",
     "output_type": "stream",
     "text": [
      "Epoch 1/50\n",
      "134/134 [==============================] - 134s 995ms/step - loss: 21.5768 - mean_absolute_error: 21.5768 - val_loss: 21.1239 - val_mean_absolute_error: 21.1239\n",
      "Epoch 2/50\n",
      "134/134 [==============================] - 144s 1s/step - loss: 17.5160 - mean_absolute_error: 17.5160 - val_loss: 19.4433 - val_mean_absolute_error: 19.4433\n",
      "Epoch 3/50\n",
      "134/134 [==============================] - 145s 1s/step - loss: 15.6802 - mean_absolute_error: 15.6802 - val_loss: 18.4973 - val_mean_absolute_error: 18.4973\n",
      "Epoch 4/50\n",
      "134/134 [==============================] - 147s 1s/step - loss: 14.9273 - mean_absolute_error: 14.9273 - val_loss: 16.7451 - val_mean_absolute_error: 16.7451\n",
      "Epoch 5/50\n",
      "134/134 [==============================] - 149s 1s/step - loss: 14.6390 - mean_absolute_error: 14.6390 - val_loss: 16.8476 - val_mean_absolute_error: 16.8476\n",
      "Epoch 6/50\n",
      "134/134 [==============================] - 152s 1s/step - loss: 14.4020 - mean_absolute_error: 14.4020 - val_loss: 16.3148 - val_mean_absolute_error: 16.3148\n",
      "Epoch 7/50\n",
      "134/134 [==============================] - 147s 1s/step - loss: 14.0856 - mean_absolute_error: 14.0856 - val_loss: 17.1582 - val_mean_absolute_error: 17.1582\n",
      "Epoch 8/50\n",
      "134/134 [==============================] - 142s 1s/step - loss: 14.1277 - mean_absolute_error: 14.1277 - val_loss: 16.2672 - val_mean_absolute_error: 16.2672\n",
      "Epoch 9/50\n",
      "134/134 [==============================] - 144s 1s/step - loss: 13.6101 - mean_absolute_error: 13.6101 - val_loss: 15.4956 - val_mean_absolute_error: 15.4956\n",
      "Epoch 10/50\n",
      "134/134 [==============================] - 141s 1s/step - loss: 13.5314 - mean_absolute_error: 13.5314 - val_loss: 17.0777 - val_mean_absolute_error: 17.0777\n",
      "Epoch 11/50\n",
      "134/134 [==============================] - 144s 1s/step - loss: 13.2206 - mean_absolute_error: 13.2206 - val_loss: 15.0989 - val_mean_absolute_error: 15.0989\n",
      "Epoch 12/50\n",
      "134/134 [==============================] - 144s 1s/step - loss: 12.8872 - mean_absolute_error: 12.8872 - val_loss: 15.4039 - val_mean_absolute_error: 15.4039\n",
      "Epoch 13/50\n",
      "134/134 [==============================] - 142s 1s/step - loss: 12.9369 - mean_absolute_error: 12.9369 - val_loss: 16.4684 - val_mean_absolute_error: 16.4684\n",
      "Epoch 14/50\n",
      "134/134 [==============================] - 144s 1s/step - loss: 12.5336 - mean_absolute_error: 12.5336 - val_loss: 16.7451 - val_mean_absolute_error: 16.7451\n",
      "Epoch 15/50\n",
      "134/134 [==============================] - 155s 1s/step - loss: 11.8362 - mean_absolute_error: 11.8362 - val_loss: 14.3477 - val_mean_absolute_error: 14.3477\n",
      "Epoch 16/50\n",
      "134/134 [==============================] - 165s 1s/step - loss: 11.8160 - mean_absolute_error: 11.8160 - val_loss: 14.8493 - val_mean_absolute_error: 14.8493\n",
      "Epoch 17/50\n",
      "134/134 [==============================] - 166s 1s/step - loss: 11.2321 - mean_absolute_error: 11.2321 - val_loss: 14.4754 - val_mean_absolute_error: 14.4754\n",
      "Epoch 18/50\n",
      "134/134 [==============================] - 178s 1s/step - loss: 10.8419 - mean_absolute_error: 10.8419 - val_loss: 15.1105 - val_mean_absolute_error: 15.1105\n",
      "Epoch 19/50\n",
      "134/134 [==============================] - 158s 1s/step - loss: 10.8135 - mean_absolute_error: 10.8135 - val_loss: 14.2147 - val_mean_absolute_error: 14.2147\n",
      "Epoch 20/50\n",
      "134/134 [==============================] - 152s 1s/step - loss: 10.2889 - mean_absolute_error: 10.2889 - val_loss: 14.5304 - val_mean_absolute_error: 14.5304\n",
      "Epoch 21/50\n",
      "134/134 [==============================] - 156s 1s/step - loss: 9.9998 - mean_absolute_error: 9.9998 - val_loss: 14.1921 - val_mean_absolute_error: 14.1921\n",
      "Epoch 22/50\n",
      "134/134 [==============================] - 165s 1s/step - loss: 9.5084 - mean_absolute_error: 9.5084 - val_loss: 14.2115 - val_mean_absolute_error: 14.2115\n",
      "Epoch 23/50\n",
      "134/134 [==============================] - 162s 1s/step - loss: 8.9722 - mean_absolute_error: 8.9722 - val_loss: 14.2040 - val_mean_absolute_error: 14.2040\n",
      "Epoch 24/50\n",
      "134/134 [==============================] - 168s 1s/step - loss: 8.5205 - mean_absolute_error: 8.5205 - val_loss: 13.8074 - val_mean_absolute_error: 13.8074\n",
      "Epoch 25/50\n",
      "134/134 [==============================] - 168s 1s/step - loss: 8.2061 - mean_absolute_error: 8.2061 - val_loss: 14.0676 - val_mean_absolute_error: 14.0676\n",
      "Epoch 26/50\n",
      "134/134 [==============================] - 165s 1s/step - loss: 8.0422 - mean_absolute_error: 8.0422 - val_loss: 13.9448 - val_mean_absolute_error: 13.9448\n",
      "Epoch 27/50\n",
      "134/134 [==============================] - 166s 1s/step - loss: 7.4736 - mean_absolute_error: 7.4736 - val_loss: 13.8009 - val_mean_absolute_error: 13.8009\n",
      "Epoch 28/50\n",
      "134/134 [==============================] - 157s 1s/step - loss: 7.2984 - mean_absolute_error: 7.2984 - val_loss: 14.0051 - val_mean_absolute_error: 14.0051\n",
      "Epoch 29/50\n",
      "134/134 [==============================] - 153s 1s/step - loss: 6.7530 - mean_absolute_error: 6.7530 - val_loss: 14.2348 - val_mean_absolute_error: 14.2348\n",
      "Epoch 30/50\n",
      "134/134 [==============================] - 155s 1s/step - loss: 6.6151 - mean_absolute_error: 6.6151 - val_loss: 13.9517 - val_mean_absolute_error: 13.9517\n",
      "Epoch 31/50\n",
      "134/134 [==============================] - 168s 1s/step - loss: 6.2439 - mean_absolute_error: 6.2439 - val_loss: 13.9982 - val_mean_absolute_error: 13.9982\n",
      "Epoch 32/50\n",
      "134/134 [==============================] - 158s 1s/step - loss: 6.0644 - mean_absolute_error: 6.0644 - val_loss: 13.9303 - val_mean_absolute_error: 13.9303\n",
      "Epoch 33/50\n",
      "134/134 [==============================] - 167s 1s/step - loss: 5.8241 - mean_absolute_error: 5.8241 - val_loss: 13.7766 - val_mean_absolute_error: 13.7766\n",
      "Epoch 34/50\n",
      "134/134 [==============================] - 166s 1s/step - loss: 5.5342 - mean_absolute_error: 5.5342 - val_loss: 14.1800 - val_mean_absolute_error: 14.1800\n",
      "Epoch 35/50\n",
      "134/134 [==============================] - 158s 1s/step - loss: 5.3863 - mean_absolute_error: 5.3863 - val_loss: 13.7867 - val_mean_absolute_error: 13.7867\n",
      "Epoch 36/50\n",
      "134/134 [==============================] - 162s 1s/step - loss: 5.0503 - mean_absolute_error: 5.0503 - val_loss: 14.0595 - val_mean_absolute_error: 14.0595\n",
      "Epoch 37/50\n",
      "134/134 [==============================] - 159s 1s/step - loss: 4.9835 - mean_absolute_error: 4.9835 - val_loss: 14.0176 - val_mean_absolute_error: 14.0176\n",
      "Epoch 38/50\n",
      "134/134 [==============================] - 153s 1s/step - loss: 4.6924 - mean_absolute_error: 4.6924 - val_loss: 14.0031 - val_mean_absolute_error: 14.0031\n",
      "Epoch 39/50\n",
      "134/134 [==============================] - 153s 1s/step - loss: 4.4706 - mean_absolute_error: 4.4706 - val_loss: 14.0493 - val_mean_absolute_error: 14.0493\n",
      "Epoch 40/50\n",
      "134/134 [==============================] - 154s 1s/step - loss: 4.4604 - mean_absolute_error: 4.4604 - val_loss: 13.8565 - val_mean_absolute_error: 13.8565\n",
      "Epoch 41/50\n",
      "134/134 [==============================] - 147s 1s/step - loss: 4.1976 - mean_absolute_error: 4.1976 - val_loss: 13.9097 - val_mean_absolute_error: 13.9097\n",
      "Epoch 42/50\n",
      "134/134 [==============================] - 155s 1s/step - loss: 4.4966 - mean_absolute_error: 4.4966 - val_loss: 13.8206 - val_mean_absolute_error: 13.8206\n",
      "Epoch 43/50\n",
      "134/134 [==============================] - 147s 1s/step - loss: 4.2079 - mean_absolute_error: 4.2079 - val_loss: 14.1383 - val_mean_absolute_error: 14.1383\n",
      "Epoch 44/50\n",
      "134/134 [==============================] - 140s 1s/step - loss: 3.9339 - mean_absolute_error: 3.9339 - val_loss: 13.9187 - val_mean_absolute_error: 13.9187\n",
      "Epoch 45/50\n",
      "134/134 [==============================] - 138s 1s/step - loss: 4.0003 - mean_absolute_error: 4.0003 - val_loss: 13.8524 - val_mean_absolute_error: 13.8524\n",
      "Epoch 46/50\n",
      "134/134 [==============================] - 135s 1s/step - loss: 3.7604 - mean_absolute_error: 3.7604 - val_loss: 13.7844 - val_mean_absolute_error: 13.7844\n",
      "Epoch 47/50\n",
      "134/134 [==============================] - 137s 1s/step - loss: 3.6450 - mean_absolute_error: 3.6450 - val_loss: 13.9769 - val_mean_absolute_error: 13.9769\n",
      "Epoch 48/50\n",
      "134/134 [==============================] - 135s 1s/step - loss: 3.9080 - mean_absolute_error: 3.9080 - val_loss: 14.0801 - val_mean_absolute_error: 14.0801\n",
      "Epoch 49/50\n",
      "134/134 [==============================] - 137s 1s/step - loss: 3.5039 - mean_absolute_error: 3.5039 - val_loss: 13.8678 - val_mean_absolute_error: 13.8678\n",
      "Epoch 50/50\n",
      "134/134 [==============================] - 145s 1s/step - loss: 3.6409 - mean_absolute_error: 3.6409 - val_loss: 14.0313 - val_mean_absolute_error: 14.0313\n"
     ]
    }
   ],
   "source": [
    "model = build_model()\n",
    "\n",
    "model.compile(loss='mean_absolute_error',\n",
    "              optimizer='adam',\n",
    "              metrics=['mean_absolute_error'])\n",
    "\n",
    "model_history = model.fit(\n",
    "            x,y,\n",
    "            batch_size = batch_size,\n",
    "            steps_per_epoch = steps_per_epoch,\n",
    "            validation_data = (x_test,y_test),\n",
    "            epochs = epochs,\n",
    "            verbose=True)\n",
    "\n",
    "#model.evaluate() Kan brukes for å sjekke modellen, men det er nok bedre å gjøre det direkte i mo del_fit."
   ]
  },
  {
   "cell_type": "code",
   "execution_count": 31,
   "metadata": {},
   "outputs": [
    {
     "data": {
      "image/png": "[encoded data removed]",
      "text/plain": [
       "<Figure size 432x288 with 1 Axes>"
      ]
     },
     "metadata": {
      "needs_background": "light"
     },
     "output_type": "display_data"
    }
   ],
   "source": [
    "import matplotlib.pyplot as plt\n",
    "\n",
    "loss = model_history.history['loss']\n",
    "val_loss = model_history.history['val_loss']\n",
    "\n",
    "epochs = range(50)\n",
    "\n",
    "plt.plot(epochs, loss, 'bo', label='Training Loss')\n",
    "plt.plot(epochs, val_loss, 'b', label='Validation Loss')\n",
    "plt.title('Training and validation loss')\n",
    "plt.legend()\n",
    "\n",
    "plt.show()"
   ]
  },
  {
   "cell_type": "code",
   "execution_count": 10,
   "metadata": {},
   "outputs": [],
   "source": [
    "def classify(num):\n",
    "    if(num > 100):\n",
    "        return 10\n",
    "    return num//10\n",
    "\n",
    "def is_correct(val_num, pred_num) -> bool:\n",
    "    num = classify(pred_num)\n",
    "    num2 = classify(val_num)\n",
    "    if(num == num2):\n",
    "        return True\n",
    "    else:\n",
    "        return False"
   ]
  },
  {
   "cell_type": "code",
   "execution_count": 26,
   "metadata": {},
   "outputs": [
    {
     "data": {
      "text/plain": [
       "27.030497592295344"
      ]
     },
     "execution_count": 26,
     "metadata": {},
     "output_type": "execute_result"
    }
   ],
   "source": [
    "def model_accuracy(model, val_x, val_y):\n",
    "    num_correct = 0\n",
    "    for i in range(len(val_x)):\n",
    "        val = tf.expand_dims(val_x[i], 0)\n",
    "        pred_num = model.predict(val)\n",
    "        val_num = val_y[i]\n",
    "        if(is_correct(val_num, int(pred_num.item()))):\n",
    "            num_correct = num_correct + 1\n",
    "    return num_correct * 100 / len(val_x) \n",
    "\n",
    "model_accuracy(model, x_test, y_test)"
   ]
  },
  {
   "cell_type": "code",
   "execution_count": 12,
   "metadata": {},
   "outputs": [],
   "source": [
    "def test_model(model, image_path):\n",
    "    image = keras.preprocessing.image.load_img(image_path, grayscale=False, color_mode='rgb',\n",
    "                                               target_size=(150, 150))\n",
    "    img_array = keras.preprocessing.image.img_to_array(image)\n",
    "    img_array = tf.expand_dims(img_array, 0)\n",
    "    img_array = np.asarray(img_array)\n",
    "    img_array = img_array.astype('float32')\n",
    "    img_array = img_array//255.0\n",
    "    predictions = model.predict(img_array)\n",
    "    print('Min: %.3f, Max: %.3f' % (img_array.min(), img_array.max()))\n",
    "    print(predictions)"
   ]
  },
  {
   "cell_type": "code",
   "execution_count": 30,
   "metadata": {},
   "outputs": [
    {
     "name": "stdout",
     "output_type": "stream",
     "text": [
      "Min: 0.000, Max: 1.000\n",
      "[[35.722446]]\n"
     ]
    }
   ],
   "source": [
    "test_model(model, \"old.jpeg\")"
   ]
  },
  {
   "cell_type": "code",
   "execution_count": null,
   "metadata": {},
   "outputs": [],
   "source": []
  }
 ],
 "metadata": {
  "interpreter": {
   "hash": "aee8b7b246df8f9039afb4144a1f6fd8d2ca17a180786b69acc140d282b71a49"
  },
  "kernelspec": {
   "display_name": "Python 3 (ipykernel)",
   "language": "python",
   "name": "python3"
  },
  "language_info": {
   "codemirror_mode": {
    "name": "ipython",
    "version": 3
   },
   "file_extension": ".py",
   "mimetype": "text/x-python",
   "name": "python",
   "nbconvert_exporter": "python",
   "pygments_lexer": "ipython3",
   "version": "3.9.7"
  }
 },
 "nbformat": 4,
 "nbformat_minor": 2
}
